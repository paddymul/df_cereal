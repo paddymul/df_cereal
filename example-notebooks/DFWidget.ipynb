{
 "cells": [
  {
   "cell_type": "code",
   "execution_count": null,
   "id": "8bf9f48f-cbf9-42fe-8d86-ef5389971dee",
   "metadata": {
    "tags": []
   },
   "outputs": [],
   "source": [
    "from df_cereal.df_widget import DFWidget, BaseWidget\n",
    "import pandas as pd"
   ]
  },
  {
   "cell_type": "code",
   "execution_count": null,
   "id": "aaeb20be-bafa-411b-a47d-02a6e67d3497",
   "metadata": {
    "tags": []
   },
   "outputs": [],
   "source": [
    "df = pd.DataFrame({'a':[10,50], 'b': ['paddy', 'margaret']})\n",
    "DFWidget(df)"
   ]
  },
  {
   "cell_type": "code",
   "execution_count": null,
   "id": "663b81ed-27bc-4278-9275-93a91c0056f2",
   "metadata": {},
   "outputs": [],
   "source": [
    "from traitlets import Unicode, List, Dict, observe, Any, Bytes\n",
    "\n",
    "class Base64Widget(BaseWidget):\n",
    "    _view_name = Unicode('Base64WidgetView').tag(sync=True)\n",
    "    df_base64 = Any(\"\").tag(sync=True)\n",
    "\n",
    "class BytesWidget(BaseWidget):\n",
    "    _view_name = Unicode('BytesWidgetView').tag(sync=True)\n",
    "    df_arrow_bytes = Bytes().tag(sync=True)"
   ]
  },
  {
   "cell_type": "code",
   "execution_count": null,
   "id": "d425ece6-cc6a-4c54-b67a-f0b69bed323d",
   "metadata": {
    "tags": []
   },
   "outputs": [],
   "source": [
    "base64table = \"/////zgBAAAQAAAAAAAKABAADgAHAAgACgAAAAAAAAEIAAAAAAAEAHz///8EAAAABAAAANgAAACYAAAARAAAAAQAAABI////FAAAAAAAAAEUAAAAAAAAAxAAAAABAAAAZAAAAAAAAAA2////AAACABAAHAAIAA8AFwAYAAQAEAAQAAAAMAAAABQAAAAAAAABFAAAAAAAAAUQAAAAAQAAAGMAAAAAAAAAtP///wgACAAAAAQACAAAAAwAAAAIAAwACAAHAAgAAAAAAAABIAAAANT///8UAAAAAAAAARQAAAAAAAAGFAAAAAEAAABiAAAAAAAAAAQABAAEAAAAEAAYAAQACwATABQAAAAMABAAAAAUAAAAAAAAARQAAAAAAAADGAAAAAEAAABhAAAAAAAAAAAABgAIAAYABgAAAAAAAgD/////sAAAABQAAAAAAAAADAAcABoAEwAUAAQADAAAABgAAAAAAAAAAAAAAAAAAAIQAAAAAAAEAAgACgAAAAQACAAAABAAAAAAAAoAGAAMAAgABAAKAAAAFAAAAEgAAAACAAAAAAAAAAAAAAADAAAAAAAAAAAAAAAAAAAAAAAAAAAAAAAAAAAAEAAAAAAAAAAQAAAAAAAAAAgAAAAAAAAAAAAAAAEAAAACAAAAAAAAAAAAAAAAAAAAAAAAAAMAAAAGAAAAAAAAAGZvb2JhcgAA/////xgBAAAUAAAAAAAAAAwAFgAUAA8AEAAEAAwAAABoAAAAAAAAAAAAAAMQAAAABAAKABgADAAIAAQACgAAABQAAACYAAAAAgAAAAAAAAAAAAAACAAAAAAAAAAAAAAAAAAAAAAAAAAAAAAAAAAAABAAAAAAAAAAEAAAAAAAAAAAAAAAAAAAABAAAAAAAAAAQAAAAAAAAABQAAAAAAAAAAAAAAAAAAAAUAAAAAAAAAAIAAAAAAAAAFgAAAAAAAAAAAAAAAAAAABYAAAAAAAAABAAAAAAAAAAAAAAAAQAAAACAAAAAAAAAAAAAAAAAAAAAgAAAAAAAAAAAAAAAAAAAAIAAAAAAAAAAAAAAAAAAAACAAAAAAAAAAAAAAAAAAAAAAAAAAAARUAAAAAAAAAoQAEAAAAAAAAAAAAAAAAAAAAAAAAAAAAAAAAAAAAAAAAAAAAAAAAAAAAAAAAAAAAAAAAAAAAAAAAAAAAAAAAAAAAAAAAAAQAAAM3MzMzMzDfAMzMzMzMzIkD/////AAAAAA==\"\n"
   ]
  },
  {
   "cell_type": "code",
   "execution_count": null,
   "id": "4c82b101-51f6-406c-bed3-e82f429e5bc3",
   "metadata": {
    "tags": []
   },
   "outputs": [],
   "source": [
    "Base64Widget(df_base64=base64table)"
   ]
  },
  {
   "cell_type": "code",
   "execution_count": null,
   "id": "f1eefb23-4875-4e1d-88a8-df8048a13282",
   "metadata": {
    "tags": []
   },
   "outputs": [],
   "source": [
    "import pyarrow as pa\n",
    "table = pa.Table.from_pandas(df)\n",
    "ab = table.to_batches()[0]\n",
    "pabuffer = ab.serialize()\n",
    "pabuffer"
   ]
  },
  {
   "cell_type": "code",
   "execution_count": null,
   "id": "b7039598-0e02-4397-8261-719932a2393b",
   "metadata": {
    "tags": []
   },
   "outputs": [],
   "source": [
    "import base64\n",
    "b64_t2 = base64.b64encode(pabuffer.to_pybytes())\n",
    "Base64Widget(df_base64=b64_t2)"
   ]
  },
  {
   "cell_type": "code",
   "execution_count": null,
   "id": "581fae01-4499-4b88-a6cf-92b9202f32be",
   "metadata": {
    "tags": []
   },
   "outputs": [],
   "source": [
    "len(b64_t2)"
   ]
  },
  {
   "cell_type": "code",
   "execution_count": null,
   "id": "7e301da0-8e3f-4b0c-abf7-7b351a2db6eb",
   "metadata": {
    "tags": []
   },
   "outputs": [],
   "source": [
    "pabuffer.size"
   ]
  },
  {
   "cell_type": "code",
   "execution_count": null,
   "id": "7dc27d26-405b-495e-bfbe-fd1eadb741af",
   "metadata": {
    "tags": []
   },
   "outputs": [],
   "source": [
    "BytesWidget(df_arrow_bytes=pabuffer.to_pybytes())"
   ]
  },
  {
   "cell_type": "code",
   "execution_count": null,
   "id": "928dcb27-ee47-403d-8437-fd11757f4d88",
   "metadata": {
    "tags": []
   },
   "outputs": [],
   "source": [
    "BytesWidget(df_arrow_bytes=pabuffer.to_pybytes())"
   ]
  },
  {
   "cell_type": "code",
   "execution_count": null,
   "id": "21eb1c01-4521-4a48-a87c-a3b3c87177a3",
   "metadata": {},
   "outputs": [],
   "source": []
  }
 ],
 "metadata": {
  "kernelspec": {
   "display_name": "Python 3 (ipykernel)",
   "language": "python",
   "name": "python3"
  },
  "language_info": {
   "codemirror_mode": {
    "name": "ipython",
    "version": 3
   },
   "file_extension": ".py",
   "mimetype": "text/x-python",
   "name": "python",
   "nbconvert_exporter": "python",
   "pygments_lexer": "ipython3",
   "version": "3.8.18"
  },
  "widgets": {
   "application/vnd.jupyter.widget-state+json": {
    "state": {},
    "version_major": 2,
    "version_minor": 0
   }
  }
 },
 "nbformat": 4,
 "nbformat_minor": 5
}
