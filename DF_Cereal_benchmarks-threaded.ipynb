{
 "cells": [
  {
   "cell_type": "code",
   "execution_count": null,
   "id": "8bf9f48f-cbf9-42fe-8d86-ef5389971dee",
   "metadata": {
    "tags": []
   },
   "outputs": [],
   "source": [
    "from df_cereal.df_widget import DFWidget, BaseWidget\n",
    "import pandas as pd\n",
    "import pyarrow as pa\n",
    "import numpy as np\n",
    "import itertools\n",
    "import pyarrow.feather as feather\n",
    "import base64\n",
    "import io\n",
    "import time\n",
    "from ipywidgets import HTML\n",
    "import threading"
   ]
  },
  {
   "cell_type": "code",
   "execution_count": null,
   "id": "663b81ed-27bc-4278-9275-93a91c0056f2",
   "metadata": {},
   "outputs": [],
   "source": [
    "from traitlets import Unicode, List, Dict, observe, Any, Bytes, observe, Bool\n",
    "\n",
    "class Base64Widget(BaseWidget):\n",
    "    _view_name = Unicode('Base64WidgetView').tag(sync=True)\n",
    "    df_base64 = Any(\"\").tag(sync=True)\n",
    "\n",
    "class BytesWidget(BaseWidget):\n",
    "    _view_name = Unicode('BytesWidgetView').tag(sync=True)\n",
    "    df_arrow_bytes = Bytes().tag(sync=True)\n",
    "\n",
    "class BytesBenchmarkWidget(BaseWidget):\n",
    "    _view_name = Unicode('BytesBenchmarkWidgetView').tag(sync=True)\n",
    "    df_arrow_bytes = Bytes().tag(sync=True)\n",
    "    timing_info = Dict({}).tag(sync=True)\n",
    "    do_calc = Bool(True).tag(sync=True)"
   ]
  },
  {
   "cell_type": "code",
   "execution_count": null,
   "id": "ec91023e-4ef0-4090-a8d8-63ecd11e1a02",
   "metadata": {
    "tags": []
   },
   "outputs": [],
   "source": [
    "def df_to_arrow_bytes(df):\n",
    "    table = pa.Table.from_pandas(df)\n",
    "    fake_file = io.BytesIO()\n",
    "    feather.write_feather(table, fake_file, compression='uncompressed')\n",
    "    fake_file.seek(0)\n",
    "    return fake_file.read()\n",
    "\n",
    "def gen_func(exp):\n",
    "    N = 4 * (10**exp)\n",
    "    t1 = pd.Timestamp.utcnow()\n",
    "    big_df = df = pd.DataFrame({\n",
    "        'one': [1]*N,\n",
    "        'str': [\"foo\", \"barr\", \"bazz\", \"bofffff\"] * (N//4),\n",
    "        'log_normal': np.random.lognormal(25, .3, N)})\n",
    "    serial_t1 = pd.Timestamp.utcnow()\n",
    "    byts = df_to_arrow_bytes(big_df)\n",
    "    serial_t2 = pd.Timestamp.utcnow()\n",
    "    timing_info = dict(\n",
    "        serial_t1=serial_t1, serial_t2=serial_t2, gen_time= serial_t1-t1, py_serialize_time=serial_t2-serial_t1,\n",
    "        rows=N, bytes=len(byts))\n",
    "    return byts, timing_info"
   ]
  },
  {
   "cell_type": "code",
   "execution_count": null,
   "id": "6c329897-11c2-40dd-9cb8-09d247d89946",
   "metadata": {
    "tags": []
   },
   "outputs": [],
   "source": [
    "from buckaroo import BuckarooWidget"
   ]
  },
  {
   "cell_type": "code",
   "execution_count": null,
   "id": "2bcda678-c970-43f1-af0d-4be982e4d4a7",
   "metadata": {
    "tags": []
   },
   "outputs": [],
   "source": [
    "bw = BuckarooWidget(pd.DataFrame())\n",
    "bw"
   ]
  },
  {
   "cell_type": "code",
   "execution_count": null,
   "id": "e6cabf59-b2db-4e0b-a5eb-15a066b705f2",
   "metadata": {
    "tags": []
   },
   "outputs": [],
   "source": [
    "bw.raw_df = simple_df"
   ]
  },
  {
   "cell_type": "code",
   "execution_count": null,
   "id": "440b49fb-6b00-4a58-9299-1ba364cf62cb",
   "metadata": {
    "tags": []
   },
   "outputs": [],
   "source": [
    "bw = BuckarooWidget(pd.DataFrame())\n",
    "display(bw)\n",
    "def format_results(res):\n",
    "    tdf = pd.DataFrame(res)\n",
    "    tdf['py_serialize'] = tdf['serial_t2'] - tdf['serial_t1']\n",
    "    tdf['widget_xfer'] = tdf['t1'] - tdf['serial_t3']\n",
    "    tdf['js_deserialize'] = tdf['t2'] - tdf['t1']\n",
    "    tdf['js_iterate'] = tdf['t3'] - tdf['t2']\n",
    "    tdf['py_notify'] = tdf['t4'] - tdf['t3']\n",
    "    tdf['roundtrip'] = tdf['t4'] - tdf['serial_t3']\n",
    "    bw.raw_df = tdf[['rows', 'bytes', 'widget_xfer', 'js_deserialize', 'js_iterate', 'roundtrip']]\n",
    "    #display(tdf[['rows', 'bytes', 'widget_xfer', 'js_deserialize', 'js_iterate', 'roundtrip']])\n",
    "class CallbackBytesBenchmarkWidget(BytesBenchmarkWidget):\n",
    "    def __init__(self, gen_func, results_arr, min_n, max_n, **kwargs):\n",
    "        self.results_arr = results_arr\n",
    "        self.max_n = max_n\n",
    "        self.current_n = min_n\n",
    "        byts, self.current_timing = gen_func(self.current_n)\n",
    "        self.current_timing['serial_t3'] = pd.Timestamp.utcnow()\n",
    "        super().__init__(df_arrow_bytes=byts)\n",
    "        self.current_n += 1\n",
    "        \n",
    "        \n",
    "    @observe('timing_info')\n",
    "    def _timing_info_change(self, change):\n",
    "        if len(self.timing_info) == 0:\n",
    "            print(\"exit early because empty timing_info\")\n",
    "            return\n",
    "        new_res = { k: pd.Timestamp(v) for k,v in self.timing_info.items()}\n",
    "        new_res['t4'] = pd.Timestamp.utcnow()\n",
    "        new_res.update(self.current_timing)\n",
    "        self.results_arr.append(new_res)\n",
    "        if self.current_n > self.max_n:\n",
    "            print(\"done\")\n",
    "            format_results(results)\n",
    "            return\n",
    "        else:\n",
    "            self.do_calc = False\n",
    "            self.timing_info = {}\n",
    "            time.sleep(.1)\n",
    "            byts, self.current_timing = gen_func(self.current_n)\n",
    "            print(\"setting arrow bytes\", len(byts) / 1_000_000)\n",
    "\n",
    "            self.current_timing['serial_t3'] = pd.Timestamp.utcnow()\n",
    "            self.do_calc = True\n",
    "            self.df_arrow_bytes = byts\n",
    "            print(\"after set arrow bytes\")\n",
    "            self.current_n += 1\n",
    "\n",
    "results = []\n",
    "sbw = CallbackBytesBenchmarkWidget(gen_func, results, min_n=1, max_n=7)\n",
    "sbw"
   ]
  },
  {
   "cell_type": "code",
   "execution_count": null,
   "id": "331cec54-40ac-489c-8d38-65189e356d56",
   "metadata": {
    "tags": []
   },
   "outputs": [],
   "source": [
    "import buckaroo"
   ]
  },
  {
   "cell_type": "code",
   "execution_count": null,
   "id": "0f6b62bf-559b-459d-91ea-424fd089c0cd",
   "metadata": {},
   "outputs": [],
   "source": [
    "def format_results(res):\n",
    "    tdf = pd.DataFrame(results)\n",
    "    tdf['py_serialize'] = tdf['serial_t2'] - tdf['serial_t1']\n",
    "    tdf['widget_xfer'] = tdf['t1'] - tdf['serial_t3']\n",
    "    tdf['js_deserialize'] = tdf['t2'] - tdf['t1']\n",
    "    tdf['js_iterate'] = tdf['t3'] - tdf['t2']\n",
    "    tdf['py_notify'] = tdf['t4'] - tdf['t3']\n",
    "    tdf['roundtrip'] = tdf['t4'] - tdf['serial_t3']\n",
    "    display(tdf[['rows', 'bytes', 'widget_xfer', 'js_deserialize', 'js_iterate', 'roundtrip']])"
   ]
  },
  {
   "cell_type": "code",
   "execution_count": null,
   "id": "e08be344-9187-4b3b-8638-4d398fd34372",
   "metadata": {
    "tags": []
   },
   "outputs": [],
   "source": [
    "while len(results) < 7:\n",
    "    time.sleep(.5)\n",
    "tdf = pd.DataFrame(results)\n",
    "tdf['py_serialize'] = tdf['serial_t2'] - tdf['serial_t1']\n",
    "tdf['widget_xfer'] = tdf['t1'] - tdf['serial_t3']\n",
    "tdf['js_deserialize'] = tdf['t2'] - tdf['t1']\n",
    "tdf['js_iterate'] = tdf['t3'] - tdf['t2']\n",
    "tdf['py_notify'] = tdf['t4'] - tdf['t3']\n",
    "tdf['roundtrip'] = tdf['t4'] - tdf['serial_t3']\n",
    "sbw.close()\n",
    "tdf[['rows', 'bytes', 'widget_xfer', 'js_deserialize', 'js_iterate', 'roundtrip']]"
   ]
  },
  {
   "cell_type": "code",
   "execution_count": null,
   "id": "dc777552-728c-436f-b2fc-93a5d1ac3ccb",
   "metadata": {},
   "outputs": [],
   "source": [
    "4_000_000"
   ]
  },
  {
   "cell_type": "code",
   "execution_count": null,
   "id": "3ff5df3f-7f1a-4710-922f-c8178a8ac110",
   "metadata": {
    "tags": []
   },
   "outputs": [],
   "source": [
    "tdf[['rows', 'bytes', 'serial_t1', 'serial_t2',  'widget_xfer', 't1', 'js_deserialize', 't2', 'js_iterate', 't3']]\n"
   ]
  },
  {
   "cell_type": "code",
   "execution_count": null,
   "id": "964cc038-a2e0-4313-a2a8-f126690fd862",
   "metadata": {},
   "outputs": [],
   "source": [
    "\n",
    "def benchmark(df):\n",
    "    output_area = HTML(\n",
    "        value=\"Hello <b>World</b>\",\n",
    "        placeholder='Some HTML2',\n",
    "        description='Some HTML3')\n",
    "    display(output_area)\n",
    "    t1 = pd.Timestamp.utcnow()\n",
    "    table = pa.Table.from_pandas(df)\n",
    "    fake_file = io.BytesIO()\n",
    "    feather.write_feather(table, fake_file, compression='uncompressed')\n",
    "    fake_file.seek(0)\n",
    "    full_bytes = fake_file.read()\n",
    "    t2 = pd.Timestamp.utcnow()\n",
    "    bbw = BytesBenchmarkWidget(output_area, df_arrow_bytes=full_bytes, serial_t1=t1, serial_t2=t2)\n",
    "    return bbw"
   ]
  },
  {
   "cell_type": "code",
   "execution_count": null,
   "id": "700f1975-670a-49aa-80d0-9e7eb0f91ef9",
   "metadata": {},
   "outputs": [],
   "source": [
    "class CallbackBytesBenchmarkWidget(BytesBenchmarkWidget):\n",
    "    def __init__(self, gen_func, results_arr, min_n, max_n, **kwargs):\n",
    "        self.results_arr = results_arr\n",
    "        self.max_n = max_n\n",
    "        self.current_n = min_n\n",
    "        super().__init__(df_arrow_bytes=gen_func(self.current_n))\n",
    "        self.current_n += 1\n",
    "        \n",
    "        \n",
    "    @observe('timing_info')\n",
    "    def _timing_info_change(self, change):\n",
    "        if len(self.timing_info) == 0:\n",
    "            print(\"exit early because empty timing_info\")\n",
    "            return\n",
    "        self.results_arr.append({ k: pd.Timestamp(v) for k,v in self.timing_info.items()})\n",
    "        if self.current_n > self.max_n:\n",
    "            print(\"done\")\n",
    "            return\n",
    "        else:\n",
    "            print(\"setting arrow bytes\")\n",
    "            self.timing_info = {}\n",
    "            time.sleep(.1)\n",
    "            self.df_arrow_bytes=gen_func(self.current_n)\n",
    "            print(\"after set arrow bytes\")\n",
    "            self.current_n += 1\n",
    "\n",
    "results = []\n",
    "sbw = CallbackBytesBenchmarkWidget(gen_func, results, min_n=1, max_n=7)\n",
    "sbw"
   ]
  },
  {
   "cell_type": "code",
   "execution_count": null,
   "id": "73f3bfd1-ff97-4b5a-a2fd-d14c3f854ea7",
   "metadata": {
    "tags": []
   },
   "outputs": [],
   "source": [
    "simple_df = pd.DataFrame({'a':[99,27], 'b': ['paddy', 'margaret']})\n",
    "N = 4000 \n",
    "big_df = df = pd.DataFrame({\n",
    "    'one': [1]*N,\n",
    "    'str': [\"foo\", \"barr\", \"bazz\", \"bofffff\"] * (N//4),\n",
    "    'log_normal': np.random.lognormal(25, .3, N)})"
   ]
  },
  {
   "cell_type": "code",
   "execution_count": null,
   "id": "f5bbfe77-e790-4d6d-9c27-7c091a07908c",
   "metadata": {
    "tags": []
   },
   "outputs": [],
   "source": [
    "class CallbackBytesBenchmarkWidget(BytesBenchmarkWidget):\n",
    "    def __init__(self, cb, **kwargs):\n",
    "        self.cb = cb\n",
    "        super().__init__(**kwargs)\n",
    "\n",
    "    \n",
    "    @observe('timing_info')\n",
    "    def _timing_info_change(self, change):\n",
    "        self.cb()\n",
    "clos_arr = []\n",
    "\n",
    "timing_infos = []\n",
    "def respond_to_cb():\n",
    "    w = clos_arr[-1]\n",
    "    timing_infos.append({ k: pd.Timestamp(v) for k,v in w.timing_info.items()})\n",
    "    print(\"here\")\n",
    "    if len(timing_infos) < 5:\n",
    "        print(\"calling display\")\n",
    "        #w.close()\n",
    "        #del clos_arr[0]\n",
    "        new_w = CallbackBytesBenchmarkWidget(respond_to_cb, df_arrow_bytes=df_to_arrow_bytes(simple_df))\n",
    "        clos_arr.append(new_w)\n",
    "        display(new_w)\n",
    "clos_arr.append(CallbackBytesBenchmarkWidget(respond_to_cb, df_arrow_bytes=df_to_arrow_bytes(simple_df)))\n",
    "display(clos_arr[0])"
   ]
  },
  {
   "cell_type": "code",
   "execution_count": null,
   "id": "27b42f8c-5d77-4449-b487-4425a112c91c",
   "metadata": {},
   "outputs": [],
   "source": [
    "class CallbackBytesBenchmarkWidget(BytesBenchmarkWidget):\n",
    "    def __init__(self, gen_func, results_arr, min_n, max_n, **kwargs):\n",
    "        self.current_n = min_n\n",
    "        super().__init__(df_arrow_bytes=gen_func(self.current_n))\n",
    "        self.current_n += 1\n",
    "        \n",
    "        \n",
    "    @observe('timing_info')\n",
    "    def _timing_info_change(self, change):\n",
    "        self.results_arr.append({ k: pd.Timestamp(v) for k,v in w.timing_info.items()})\n",
    "        self.df_arrow_bytes=gen_func(self.current_n))\n",
    "        self.current_n += 1\n",
    "\n",
    "\n",
    "clos_arr = []\n",
    "\n",
    "timing_infos = []\n",
    "def respond_to_cb():\n",
    "    w = clos_arr[-1]\n",
    "    timing_infos.append({ k: pd.Timestamp(v) for k,v in w.timing_info.items()})\n",
    "    print(\"here\")\n",
    "    if len(timing_infos) < 5:\n",
    "        print(\"calling display\")\n",
    "        #w.close()\n",
    "        #del clos_arr[0]\n",
    "        new_w = CallbackBytesBenchmarkWidget(respond_to_cb, df_arrow_bytes=df_to_arrow_bytes(simple_df))\n",
    "        clos_arr.append(new_w)\n",
    "        display(new_w)\n",
    "clos_arr.append(CallbackBytesBenchmarkWidget(respond_to_cb, df_arrow_bytes=df_to_arrow_bytes(simple_df)))\n",
    "display(clos_arr[0])"
   ]
  },
  {
   "cell_type": "code",
   "execution_count": null,
   "id": "7e5509cd-f990-4aa0-81ed-b601d269e64c",
   "metadata": {
    "tags": []
   },
   "outputs": [],
   "source": [
    "10**1,10**2"
   ]
  },
  {
   "cell_type": "code",
   "execution_count": null,
   "id": "d99189c2-4571-45af-90ed-8fe0b94763ab",
   "metadata": {
    "tags": []
   },
   "outputs": [],
   "source": []
  },
  {
   "cell_type": "code",
   "execution_count": null,
   "id": "1309aa1e-84a0-43a4-bc0d-23f6cf2d0f5f",
   "metadata": {
    "tags": []
   },
   "outputs": [],
   "source": [
    "pd.DataFrame(results)"
   ]
  },
  {
   "cell_type": "code",
   "execution_count": null,
   "id": "2c489786-3fb0-4bcd-be28-4e960698df53",
   "metadata": {
    "tags": []
   },
   "outputs": [],
   "source": [
    "len(gen_func(5))"
   ]
  },
  {
   "cell_type": "code",
   "execution_count": null,
   "id": "ed5a6049-773d-4abe-89f8-99e26599d55a",
   "metadata": {
    "tags": []
   },
   "outputs": [],
   "source": [
    "sbw = SimpleBytesBenchmarkWidget(df_arrow_bytes=df_to_arrow_bytes(simple_df))\n",
    "display(sbw)"
   ]
  },
  {
   "cell_type": "code",
   "execution_count": null,
   "id": "93223b06-171a-4144-810e-6c984496de4c",
   "metadata": {
    "tags": []
   },
   "outputs": [],
   "source": [
    "sbw.timing_info"
   ]
  },
  {
   "cell_type": "code",
   "execution_count": null,
   "id": "dcea4012-13a6-4387-9c7f-58c671cf8cce",
   "metadata": {
    "tags": []
   },
   "outputs": [],
   "source": [
    "del(sbw)"
   ]
  },
  {
   "cell_type": "code",
   "execution_count": null,
   "id": "a1f99e9f-9c48-4f3f-b0b3-25020536884e",
   "metadata": {
    "tags": []
   },
   "outputs": [],
   "source": [
    "sbw.close()"
   ]
  },
  {
   "cell_type": "code",
   "execution_count": null,
   "id": "446eb5cd-0c70-48c4-82c4-719396fe06d2",
   "metadata": {
    "tags": []
   },
   "outputs": [],
   "source": [
    "sbw = SimpleBytesBenchmarkWidget(df_arrow_bytes=df_to_arrow_bytes(simple_df))\n",
    "def worker():\n",
    "    print('Worker started')\n",
    "    time.sleep(3)\n",
    "    print(sbw.timing_info)\n",
    "    print('Worker finished')\n",
    "display(sbw)\n",
    "\n",
    "thread = threading.Thread(target=worker)\n",
    "thread.start()\n",
    "\n",
    "print('Main thread continues')\n",
    "thread.join()\n",
    "print(sbw.timing_info)"
   ]
  },
  {
   "cell_type": "code",
   "execution_count": null,
   "id": "8372f05d-5101-47f1-84b6-02fd5f03990b",
   "metadata": {
    "tags": []
   },
   "outputs": [],
   "source": [
    "widgets = []\n",
    "for i in range(5):\n",
    "    #time.sleep(.5)\n",
    "    widgets.append(SimpleBytesBenchmarkWidget(df_arrow_bytes=df_to_arrow_bytes(simple_df)))\n",
    "for x in widgets:\n",
    "    display(x)\n",
    "    while len(x.timing_info) == 0:\n",
    "        time.sleep(.1)\n"
   ]
  },
  {
   "cell_type": "code",
   "execution_count": null,
   "id": "c5d07323-5306-4714-b3fa-c857b4d0318a",
   "metadata": {
    "tags": []
   },
   "outputs": [],
   "source": [
    "widgets[0].timing_info"
   ]
  },
  {
   "cell_type": "code",
   "execution_count": null,
   "id": "602046d8-3de0-4a2d-96fb-98ccf463a9e4",
   "metadata": {
    "tags": []
   },
   "outputs": [],
   "source": [
    "#display(widgets[0])\n",
    "#time.sleep(1)\n",
    "#widgets[0].timing_info"
   ]
  },
  {
   "cell_type": "code",
   "execution_count": null,
   "id": "1a5910bf-8447-403f-88c7-e5a781f63e6a",
   "metadata": {
    "tags": []
   },
   "outputs": [],
   "source": [
    "tdf = pd.DataFrame([ { k: pd.Timestamp(v) for k,v in x.timing_info.items() } for x in widgets])\n",
    "tdf['elapsed'] = tdf['t3'] - tdf['t1']\n",
    "tdf"
   ]
  },
  {
   "cell_type": "code",
   "execution_count": null,
   "id": "95cbe679-016b-4e1b-968c-06a6ce0a9428",
   "metadata": {
    "tags": []
   },
   "outputs": [],
   "source": [
    "#timing_infos = []\n",
    "widgets = []\n",
    "for i in range(5):\n",
    "    widgets.append(SimpleBytesBenchmarkWidget(df_arrow_bytes=df_to_arrow_bytes(simple_df)))\n",
    "    #display(sbw)\n",
    "    #timing_infos.append(sbw)\n",
    "    #while len(sbw.timing_info) == 0:\n",
    "    #    print(\"sleep\")\n",
    "    #    time.sleep(.5)\n",
    "    #print(\"found timing info\", sbw.timing_info)\n",
    "    #timing_infos.append(sbw.timing_info)\n",
    "#pd.DataFrame(timing_infos)"
   ]
  },
  {
   "cell_type": "code",
   "execution_count": null,
   "id": "4c784a60-b00a-4435-adc0-caff917b5389",
   "metadata": {
    "tags": []
   },
   "outputs": [],
   "source": [
    "pd.DataFrame([x.timing_info for x in timing_infos])"
   ]
  },
  {
   "cell_type": "code",
   "execution_count": null,
   "id": "ea7f5d5b-2486-492a-9967-05bfac731371",
   "metadata": {
    "tags": []
   },
   "outputs": [],
   "source": [
    "sbw.timing_info"
   ]
  },
  {
   "cell_type": "code",
   "execution_count": null,
   "id": "be1f01ec-ca82-4838-b1c9-83feb9e157eb",
   "metadata": {
    "tags": []
   },
   "outputs": [],
   "source": []
  },
  {
   "cell_type": "code",
   "execution_count": null,
   "id": "129a2928-1f11-4d1b-88af-604901fab95e",
   "metadata": {
    "tags": []
   },
   "outputs": [],
   "source": [
    "sbw = SimpleBytesBenchmarkWidget(df_arrow_bytes=df_to_arrow_bytes(simple_df))\n",
    "display(sbw)\n",
    "print(sbw.timing_info, len(sbw.timing_info))"
   ]
  },
  {
   "cell_type": "code",
   "execution_count": null,
   "id": "033c95cd-a6cf-43f1-b021-e60411108043",
   "metadata": {
    "tags": []
   },
   "outputs": [],
   "source": [
    "print(sbw.timing_info, len(sbw.timing_info))"
   ]
  },
  {
   "cell_type": "code",
   "execution_count": null,
   "id": "453baded-4dc7-4104-8600-2e8543bc52a2",
   "metadata": {
    "tags": []
   },
   "outputs": [],
   "source": [
    "def format_td(td):\n",
    "    return \"{td.seconds}.{td.microseconds}\".format(td=td)\n",
    "\n",
    "class BytesBenchmarkWidget(BaseWidget):\n",
    "    _view_name = Unicode('BytesBenchmarkWidgetView').tag(sync=True)\n",
    "    df_arrow_bytes = Bytes().tag(sync=True)\n",
    "    timing_info = Dict({}).tag(sync=True)\n",
    "\n",
    "    def __init__(self, html_output, serial_t1, serial_t2, **kwargs):\n",
    "        self.serial_t1, self.serial_t2 = serial_t1, serial_t2\n",
    "        self.html_output = html_output\n",
    "        super().__init__(**kwargs)\n",
    "    \n",
    "    @observe('timing_info')\n",
    "    def _timing_info_change(self, change):\n",
    "        self.js_t1 = pd.Timestamp(self.timing_info['t1'])\n",
    "        self.js_t2 = pd.Timestamp(self.timing_info['t2'])\n",
    "        self.js_t3 = pd.Timestamp(self.timing_info['t3'])\n",
    "        self.t4 = pd.Timestamp.utcnow()\n",
    "        \n",
    "        self.timedeltas = dict(\n",
    "            py_serialize = self.serial_t2 - self.serial_t1,\n",
    "            widget_xfer = self.js_t1 - self.serial_t2,\n",
    "            js_deserialize = self.js_t2 - self.js_t1,\n",
    "            js_iterate = self.js_t3 - self.js_t2,\n",
    "            py_notify = self.t4 - self.js_t3,\n",
    "            roundtrip = self.t4 - self.serial_t1\n",
    "        )\n",
    "        template = \"\"\"\n",
    "        <table border=\"1\">\n",
    "            <thead>\n",
    "                <th>python serialize</th>\n",
    "                <th>widget transmit</th>\n",
    "                <th>js deserialize</th>\n",
    "                <th>js iterate</th>\n",
    "                <th>python notify</th>\n",
    "                <th>roundtrip</th>\n",
    "            </thead>\n",
    "            <tbody >\n",
    "                <tr>\n",
    "                    <td> {py_serialize} </td>\n",
    "                    <td> {widget_xfer} </td>\n",
    "                    <td> {js_deserialize} </td>\n",
    "                    <td> {js_iterate} </td>\n",
    "                    <td> {py_notify} </td>\n",
    "                    <td> {roundtrip} </td>\n",
    "                </tr>\n",
    "            </tbody>\n",
    "        </table>\n",
    "        \"\"\"\n",
    "        self.html_output.value = template.format(\n",
    "            **{k: format_td(v) for k,v in self.timedeltas.items()})\n",
    "\n",
    "def benchmark(df):\n",
    "    output_area = HTML(\n",
    "        value=\"Hello <b>World</b>\",\n",
    "        placeholder='Some HTML2',\n",
    "        description='Some HTML3')\n",
    "    display(output_area)\n",
    "    t1 = pd.Timestamp.utcnow()\n",
    "    table = pa.Table.from_pandas(df)\n",
    "    fake_file = io.BytesIO()\n",
    "    feather.write_feather(table, fake_file, compression='uncompressed')\n",
    "    fake_file.seek(0)\n",
    "    full_bytes = fake_file.read()\n",
    "    t2 = pd.Timestamp.utcnow()\n",
    "    bbw = BytesBenchmarkWidget(output_area, df_arrow_bytes=full_bytes, serial_t1=t1, serial_t2=t2)\n",
    "    return bbw\n",
    "\n",
    "\n",
    "df = pd.DataFrame({'a':[99,27], 'b': ['paddy', 'margaret']})\n",
    "bnch= benchmark(df)\n",
    "bnch"
   ]
  },
  {
   "cell_type": "code",
   "execution_count": null,
   "id": "9da92af1-e4d5-4973-b81b-6b2f16952741",
   "metadata": {
    "tags": []
   },
   "outputs": [],
   "source": [
    "def df_to_arrow_bytes(df):\n",
    "    table = pa.Table.from_pandas(df)\n",
    "    fake_file = io.BytesIO()\n",
    "    feather.write_feather(table, fake_file, compression='uncompressed')\n",
    "    fake_file.seek(0)\n",
    "    return fake_file.read()\n",
    "\n",
    "class SimpleBytesBenchmarkWidget(BaseWidget):\n",
    "    _view_name = Unicode('BytesBenchmarkWidgetView').tag(sync=True)\n",
    "    df_arrow_bytes = Bytes().tag(sync=True)\n",
    "    timing_info = Dict({}).tag(sync=True)\n",
    "\n",
    "simple_df = pd.DataFrame({'a':[99,27], 'b': ['paddy', 'margaret']})\n",
    "N = 4000 \n",
    "big_df = df = pd.DataFrame({\n",
    "    'one': [1]*N,\n",
    "    'str': [\"foo\", \"barr\", \"bazz\", \"bofffff\"] * (N//4),\n",
    "    'log_normal': np.random.lognormal(25, .3, N)})\n",
    "\n",
    "#sbw = SimpleBytesBenchmarkWidget(df_arrow_bytes=df_to_arrow_bytes(simple_df))\n",
    "def _timing_info_change(change):\n",
    "    print(change['new'])\n",
    "#sbw.observe(_timing_info_change, 'timing_info')\n",
    "\n",
    "#print(sbw.timing_info)\n",
    "#sbw.df_arrow_bytes=df_to_arrow_bytes(simple_df)\n",
    "#display(sbw)"
   ]
  },
  {
   "cell_type": "code",
   "execution_count": null,
   "id": "61119691-57c2-4956-b2c4-529114a6dafd",
   "metadata": {
    "tags": []
   },
   "outputs": [],
   "source": [
    "sbw = SimpleBytesBenchmarkWidget(df_arrow_bytes=df_to_arrow_bytes(simple_df))\n",
    "display(sbw)\n",
    "print(sbw.timing_info, len(sbw.timing_info))"
   ]
  },
  {
   "cell_type": "code",
   "execution_count": null,
   "id": "8b1a1f2c-937d-43e0-a19b-af2edeeb29e8",
   "metadata": {
    "tags": []
   },
   "outputs": [],
   "source": [
    "print(sbw.timing_info, len(sbw.timing_info))"
   ]
  },
  {
   "cell_type": "code",
   "execution_count": null,
   "id": "260141a7-0a5b-4d59-8d62-ce63478e8357",
   "metadata": {
    "tags": []
   },
   "outputs": [],
   "source": [
    "sbw.close()"
   ]
  },
  {
   "cell_type": "code",
   "execution_count": null,
   "id": "e4a16ffa-fa88-4c04-b961-1863605d4ecb",
   "metadata": {
    "tags": []
   },
   "outputs": [],
   "source": [
    "timing_infos = []\n",
    "for i in range(5):\n",
    "    sbw = SimpleBytesBenchmarkWidget(df_arrow_bytes=df_to_arrow_bytes(simple_df))\n",
    "    display(sbw)\n",
    "    while len(sbw.timing_info) == 0:\n",
    "        print(\"sleep\")\n",
    "        time.sleep(.5)\n",
    "    print(\"found timing info\", sbw.timing_info)\n",
    "    timing_infos.append(sbw.timing_info)\n",
    "pd.DataFrame(timing_infos)"
   ]
  },
  {
   "cell_type": "code",
   "execution_count": null,
   "id": "13aab2bd-a671-4645-a683-35b5282fb322",
   "metadata": {
    "tags": []
   },
   "outputs": [],
   "source": [
    "sbw.timing_info"
   ]
  },
  {
   "cell_type": "code",
   "execution_count": null,
   "id": "30001481-a37f-45a9-8d6c-f1b6f95afd3c",
   "metadata": {},
   "outputs": [],
   "source": [
    "def df_to_arrow_bytes(df):\n",
    "    table = pa.Table.from_pandas(df)\n",
    "    fake_file = io.BytesIO()\n",
    "    feather.write_feather(table, fake_file, compression='uncompressed')\n",
    "    fake_file.seek(0)\n",
    "    return fake_file.read()"
   ]
  },
  {
   "cell_type": "code",
   "execution_count": null,
   "id": "03d81467-eefa-4cb2-86b9-55536f9518ff",
   "metadata": {},
   "outputs": [],
   "source": [
    "class SimpleBytesBenchmarkWidget(BaseWidget):\n",
    "    _view_name = Unicode('BytesBenchmarkWidgetView').tag(sync=True)\n",
    "    df_arrow_bytes = Bytes().tag(sync=True)\n",
    "    timing_info = Dict({}).tag(sync=True)\n",
    "\n",
    "def benchmark(df):\n",
    "    output_area = HTML(\n",
    "        value=\"Hello <b>World</b>\",\n",
    "        placeholder='Some HTML2',\n",
    "        description='Some HTML3')\n",
    "    display(output_area)\n",
    "    t1 = pd.Timestamp.utcnow()\n",
    "\n",
    "    t2 = pd.Timestamp.utcnow()\n",
    "    bbw = BytesBenchmarkWidget(output_area, df_arrow_bytes=full_bytes, serial_t1=t1, serial_t2=t2)\n",
    "    return bbw\n",
    "\n",
    "    \n",
    "    @observe('timing_info')\n",
    "    def _timing_info_change(self, change):\n",
    "        self.js_t1 = pd.Timestamp(self.timing_info['t1'])\n",
    "        self.js_t2 = pd.Timestamp(self.timing_info['t2'])\n",
    "        self.js_t3 = pd.Timestamp(self.timing_info['t3'])\n",
    "        self.t4 = pd.Timestamp.utcnow()\n",
    "        \n",
    "        self.timedeltas = dict(\n",
    "            py_serialize = self.serial_t2 - self.serial_t1,\n",
    "            widget_xfer = self.js_t1 - self.serial_t2,\n",
    "            js_deserialize = self.js_t2 - self.js_t1,\n",
    "            js_iterate = self.js_t3 - self.js_t2,\n",
    "            py_notify = self.t4 - self.js_t3,\n",
    "            roundtrip = self.t4 - self.serial_t1\n",
    "        )\n",
    "        template = \"\"\"\n",
    "        <table border=\"1\">\n",
    "            <thead>\n",
    "                <th>python serialize</th>\n",
    "                <th>widget transmit</th>\n",
    "                <th>js deserialize</th>\n",
    "                <th>js iterate</th>\n",
    "                <th>python notify</th>\n",
    "                <th>roundtrip</th>\n",
    "            </thead>\n",
    "            <tbody >\n",
    "                <tr>\n",
    "                    <td> {py_serialize} </td>\n",
    "                    <td> {widget_xfer} </td>\n",
    "                    <td> {js_deserialize} </td>\n",
    "                    <td> {js_iterate} </td>\n",
    "                    <td> {py_notify} </td>\n",
    "                    <td> {roundtrip} </td>\n",
    "                </tr>\n",
    "            </tbody>\n",
    "        </table>\n",
    "        \"\"\"\n",
    "        self.html_output.value = template.format(\n",
    "            **{k: format_td(v) for k,v in self.timedeltas.items()})\n",
    "\n",
    "def benchmark(df):\n",
    "    output_area = HTML(\n",
    "        value=\"Hello <b>World</b>\",\n",
    "        placeholder='Some HTML2',\n",
    "        description='Some HTML3')\n",
    "    display(output_area)\n",
    "    t1 = pd.Timestamp.utcnow()\n",
    "    table = pa.Table.from_pandas(df)\n",
    "    fake_file = io.BytesIO()\n",
    "    feather.write_feather(table, fake_file, compression='uncompressed')\n",
    "    fake_file.seek(0)\n",
    "    full_bytes = fake_file.read()\n",
    "    t2 = pd.Timestamp.utcnow()\n",
    "    bbw = BytesBenchmarkWidget(output_area, df_arrow_bytes=full_bytes, serial_t1=t1, serial_t2=t2)\n",
    "    return bbw\n",
    "\n",
    "\n",
    "df = pd.DataFrame({'a':[99,27], 'b': ['paddy', 'margaret']})\n",
    "bnch= benchmark(df)\n",
    "bnch"
   ]
  },
  {
   "cell_type": "code",
   "execution_count": null,
   "id": "2650bac3-cd67-4533-9cb2-61de3ab2868d",
   "metadata": {
    "tags": []
   },
   "outputs": [],
   "source": [
    "pd.Timedelta(\"10 seconds\")"
   ]
  },
  {
   "cell_type": "code",
   "execution_count": null,
   "id": "f0d4bf6f-2e76-44f5-9c13-5dcd29652a1d",
   "metadata": {},
   "outputs": [],
   "source": [
    "def stat_benchmark(df_f, min_n, max_n, steps=10, runs=7, max_time=pd.Timedelta(\"10 seconds\")):\n",
    "    "
   ]
  },
  {
   "cell_type": "code",
   "execution_count": null,
   "id": "8c9cd480-3661-43f1-ae48-19f880f6a9a5",
   "metadata": {
    "tags": []
   },
   "outputs": [],
   "source": [
    "N = 10_000_000\n",
    "df = pd.DataFrame({\n",
    "    'one': [1]*N,\n",
    "    'str': [\"foo\", \"barr\", \"bazz\", \"bofffff\"] * (N//4),\n",
    "    'log_normal2': np.random.lognormal(25, .3, N),\n",
    "    'log_normal': np.random.lognormal(25, .3, N)})"
   ]
  },
  {
   "cell_type": "code",
   "execution_count": null,
   "id": "3272d369-088a-4398-9295-e8f46bd60c16",
   "metadata": {
    "tags": []
   },
   "outputs": [],
   "source": [
    "bbw = benchmark(df)\n",
    "bbw"
   ]
  },
  {
   "cell_type": "code",
   "execution_count": null,
   "id": "4ba85edf-d999-4d36-beed-d6d35f5e72e4",
   "metadata": {
    "tags": []
   },
   "outputs": [],
   "source": [
    "ab = bbw.td2"
   ]
  },
  {
   "cell_type": "code",
   "execution_count": null,
   "id": "cdebba6a-6f1b-430f-b260-b4f27ee57c00",
   "metadata": {
    "tags": []
   },
   "outputs": [],
   "source": [
    "ab.seconds"
   ]
  },
  {
   "cell_type": "code",
   "execution_count": null,
   "id": "7ed9ac05-7a91-4932-bebb-2b6ab078294e",
   "metadata": {
    "tags": []
   },
   "outputs": [],
   "source": [
    "ab.microseconds"
   ]
  },
  {
   "cell_type": "code",
   "execution_count": null,
   "id": "6139dcd1-824a-422f-927d-8c497a168410",
   "metadata": {
    "tags": []
   },
   "outputs": [],
   "source": [
    "bench"
   ]
  },
  {
   "cell_type": "code",
   "execution_count": null,
   "id": "78f30918-9aa9-4e2f-9357-bd68d374203d",
   "metadata": {
    "tags": []
   },
   "outputs": [],
   "source": [
    "ab = benchmark(df)\n",
    "ab.timing_info"
   ]
  },
  {
   "cell_type": "code",
   "execution_count": null,
   "id": "2ddd8826-6e1f-40d7-aee3-98f3cfd262c4",
   "metadata": {
    "tags": []
   },
   "outputs": [],
   "source": [
    "ab.timing_info"
   ]
  },
  {
   "cell_type": "code",
   "execution_count": null,
   "id": "4c82b101-51f6-406c-bed3-e82f429e5bc3",
   "metadata": {
    "tags": []
   },
   "outputs": [],
   "source": [
    "Base64Widget(df_base64=base64table)"
   ]
  },
  {
   "cell_type": "code",
   "execution_count": null,
   "id": "f4899000-9eae-4bb3-93eb-5e8e5e2e8f2a",
   "metadata": {
    "tags": []
   },
   "outputs": [],
   "source": []
  },
  {
   "cell_type": "code",
   "execution_count": null,
   "id": "f1eefb23-4875-4e1d-88a8-df8048a13282",
   "metadata": {
    "tags": []
   },
   "outputs": [],
   "source": [
    "df = pd.DataFrame({'a':[99,27], 'b': ['paddy', 'margaret']})\n",
    "#df = pd.DataFrame({'a':[10,530], 'c': [-3.5, 9.7], 'd': [1,2]})\n",
    "\n",
    "table = pa.Table.from_pandas(df)\n",
    "feather.write_feather(table, \"simple_df.feath\", compression='uncompressed')\n",
    "feath_text = open(\"simple_df.feath\", \"rb\").read()\n",
    "usable_feath_text = base64.b64encode(feath_text).decode('utf8')\n",
    "\n",
    "print(len(feath_text))\n",
    "feath_text[:500]"
   ]
  },
  {
   "cell_type": "code",
   "execution_count": null,
   "id": "12237758-ed22-4726-ab24-1988011c71c7",
   "metadata": {
    "tags": []
   },
   "outputs": [],
   "source": [
    "import io\n",
    "table = pa.Table.from_pandas(df)\n",
    "fake_file = io.BytesIO()\n",
    "feather.write_feather(table, fake_file, compression='uncompressed')\n",
    "#feath_text = open(\"simple_df.feath\", \"rb\").read()\n",
    "fake_file.seek(0)\n",
    "BytesWidget(df_arrow_bytes=fake_file.read())"
   ]
  },
  {
   "cell_type": "code",
   "execution_count": null,
   "id": "dd51ae9f-8692-469e-80c9-f89ca24e939b",
   "metadata": {
    "tags": []
   },
   "outputs": [],
   "source": [
    "BytesWidget(df_arrow_bytes=feath_text)"
   ]
  },
  {
   "cell_type": "code",
   "execution_count": null,
   "id": "978aa7be-b0df-4a3c-a12e-fc88c1910963",
   "metadata": {
    "tags": []
   },
   "outputs": [],
   "source": [
    "usable_feath_text = base64.b64encode(feath_text).decode('utf8')\n",
    "Base64Widget(df_base64=usable_feath_text)"
   ]
  },
  {
   "cell_type": "code",
   "execution_count": null,
   "id": "cb65ad8e-f441-4d40-8a6d-8e3980bf3e02",
   "metadata": {
    "tags": []
   },
   "outputs": [],
   "source": [
    "def B64Viewer(df):\n",
    "    table = pa.Table.from_pandas(df)\n",
    "    feather.write_feather(table, \"simple_df.feath\", compression='uncompressed')\n",
    "    feath_text = open(\"simple_df.feath\", \"rb\").read()\n",
    "    usable_feath_text = base64.b64encode(feath_text).decode('utf8')\n",
    "    usable_feath_text = base64.b64encode(feath_text).decode('utf8')\n",
    "    return [Base64Widget(df_base64=usable_feath_text), usable_feath_text]\n",
    "ab = B64Viewer(pd.DataFrame({'a': [1, None, 2, 3,-3]}))\n",
    "ab[0]"
   ]
  },
  {
   "cell_type": "code",
   "execution_count": null,
   "id": "dc5551aa-a7a8-4c4a-b538-5e72bb736428",
   "metadata": {
    "tags": []
   },
   "outputs": [],
   "source": [
    "split_string(ab[1], 70)"
   ]
  },
  {
   "cell_type": "code",
   "execution_count": null,
   "id": "5b50bcf3-57d5-4b89-bdbf-0aee65240e05",
   "metadata": {
    "tags": []
   },
   "outputs": [],
   "source": [
    "import numpy as np"
   ]
  },
  {
   "cell_type": "code",
   "execution_count": null,
   "id": "0853c3d6-1050-4ffc-bc31-ce7d5322dd67",
   "metadata": {
    "tags": []
   },
   "outputs": [],
   "source": [
    "ab = B64Viewer(pd.DataFrame({'a': [1, None, np.nan, np.inf, np.inf * -1]}))\n",
    "ab[0]"
   ]
  },
  {
   "cell_type": "code",
   "execution_count": null,
   "id": "86814090-a61f-48c7-bc0d-d053b5ba3fa2",
   "metadata": {
    "tags": []
   },
   "outputs": [],
   "source": [
    "split_string(ab[1], 70)"
   ]
  },
  {
   "cell_type": "code",
   "execution_count": null,
   "id": "4fb0b4bd-a7d2-4c38-957a-30056d870551",
   "metadata": {
    "tags": []
   },
   "outputs": [],
   "source": [
    "split_string(usable_feath_text, 70)"
   ]
  },
  {
   "cell_type": "code",
   "execution_count": null,
   "id": "218fab29-0234-429c-9b66-a42864cc32b4",
   "metadata": {
    "tags": []
   },
   "outputs": [],
   "source": [
    "b64_t2 = base64.b64encode(feath_text)\n",
    "print(b64_t2[:30])\n",
    "print(\"  %s\" % b64_t2.decode('utf8')[:30])"
   ]
  },
  {
   "cell_type": "code",
   "execution_count": null,
   "id": "cb1d196e-ccef-4f9d-9a24-184dd6df62b1",
   "metadata": {
    "tags": []
   },
   "outputs": [],
   "source": [
    "b64_t2.decode('utf8')[::70]"
   ]
  },
  {
   "cell_type": "code",
   "execution_count": null,
   "id": "9d2de3ba-f687-4352-a3f5-32bd0fb50037",
   "metadata": {
    "tags": []
   },
   "outputs": [],
   "source": [
    "def split_string(text, stride):\n",
    "    return [text[i:i+stride] for i in range(0, len(text), stride)]\n",
    "#split_string(\"asdfasdfasdf\", 3)\n",
    "split_string(b64_t2.decode('utf8'), 70)"
   ]
  },
  {
   "cell_type": "code",
   "execution_count": null,
   "id": "fda37d01-bc1f-4ae9-9fe7-c7b0c6f76edc",
   "metadata": {
    "tags": []
   },
   "outputs": [],
   "source": [
    "df"
   ]
  },
  {
   "cell_type": "code",
   "execution_count": null,
   "id": "2cf879df-a49f-40f0-85a1-d48be86427a5",
   "metadata": {
    "tags": []
   },
   "outputs": [],
   "source": [
    "import base64\n",
    "b64_t2 = base64.b64encode(feath_text)\n",
    "b64_t2"
   ]
  },
  {
   "cell_type": "code",
   "execution_count": null,
   "id": "4f8784f6-9b87-4d8e-847b-20cb7c8e3ed6",
   "metadata": {},
   "outputs": [],
   "source": [
    "pa.fea"
   ]
  },
  {
   "cell_type": "code",
   "execution_count": null,
   "id": "8d02a6ae-63e5-4f9b-9214-45424239623a",
   "metadata": {},
   "outputs": [],
   "source": [
    "sink = pa.BufferOutputStream()\n",
    "buf = sink.getvalue()\n",
    "with pa.ipc.open_stream(buf) as reader:\n",
    "      schema = reader.schema\n",
    "      batches = [b for b in reader]\n"
   ]
  },
  {
   "cell_type": "code",
   "execution_count": null,
   "id": "d75243c9-7391-4324-a391-de820a6f90ac",
   "metadata": {
    "tags": []
   },
   "outputs": [],
   "source": [
    "BytesWidget(df_arrow_bytes=pabuffer.to_pybytes())"
   ]
  },
  {
   "cell_type": "code",
   "execution_count": null,
   "id": "b7039598-0e02-4397-8261-719932a2393b",
   "metadata": {
    "tags": []
   },
   "outputs": [],
   "source": [
    "import base64\n",
    "b64_t2 = base64.b64encode(pabuffer.to_pybytes())\n",
    "#Base64Widget(df_base64=b64_t2)"
   ]
  },
  {
   "cell_type": "code",
   "execution_count": null,
   "id": "27c071d5-18c4-4e6f-8ab6-751c15c11e20",
   "metadata": {
    "tags": []
   },
   "outputs": [],
   "source": [
    "b64_t2"
   ]
  },
  {
   "cell_type": "code",
   "execution_count": null,
   "id": "e857785d-eec0-43cc-b4d4-2c427aa6968b",
   "metadata": {
    "tags": []
   },
   "outputs": [],
   "source": [
    "b64_t3 = '/////8gAAAAUAAAAAAAAAAwAFgAGAAUACAAMAAwAAAAAAwQAGAAAADAAAAAAAAAAAAAKABgADAAEAAgACgAAAGwAAAAQAAAAAgAAAAAAAAAAAAAABQAAAAAAAAAAAAAAAAAAAAAAAAAAAAAAAAAAABAAAAAAAAAAEAAAAAAAAAAAAAAAAAAAABAAAAAAAAAADAAAAAAAAAAgAAAAAAAAAA0AAAAAAAAAAAAAAAIAAAACAAAAAAAAAAAAAAAAAAAAAgAAAAAAAAAAAAAAAAAAAAoAAAAAAAAAMgAAAAAAAAAAAAAABQAAAA0AAAAAAAAAcGFkZHltYXJnYXJldAAAAA=='"
   ]
  },
  {
   "cell_type": "code",
   "execution_count": null,
   "id": "a5a1e18f-d9e5-48b9-8dd9-45a5e64573c0",
   "metadata": {
    "tags": []
   },
   "outputs": [],
   "source": [
    "Base64Widget(df_base64=b64_t3)"
   ]
  },
  {
   "cell_type": "code",
   "execution_count": null,
   "id": "581fae01-4499-4b88-a6cf-92b9202f32be",
   "metadata": {
    "tags": []
   },
   "outputs": [],
   "source": [
    "len(b64_t2)"
   ]
  },
  {
   "cell_type": "code",
   "execution_count": null,
   "id": "7e301da0-8e3f-4b0c-abf7-7b351a2db6eb",
   "metadata": {
    "tags": []
   },
   "outputs": [],
   "source": [
    "pabuffer.size"
   ]
  },
  {
   "cell_type": "code",
   "execution_count": null,
   "id": "7dc27d26-405b-495e-bfbe-fd1eadb741af",
   "metadata": {
    "tags": []
   },
   "outputs": [],
   "source": [
    "BytesWidget(df_arrow_bytes=pabuffer.to_pybytes())"
   ]
  },
  {
   "cell_type": "code",
   "execution_count": null,
   "id": "928dcb27-ee47-403d-8437-fd11757f4d88",
   "metadata": {
    "tags": []
   },
   "outputs": [],
   "source": [
    "BytesWidget(df_arrow_bytes=pabuffer.to_pybytes())"
   ]
  },
  {
   "cell_type": "code",
   "execution_count": null,
   "id": "21eb1c01-4521-4a48-a87c-a3b3c87177a3",
   "metadata": {},
   "outputs": [],
   "source": []
  }
 ],
 "metadata": {
  "kernelspec": {
   "display_name": "Python 3 (ipykernel)",
   "language": "python",
   "name": "python3"
  },
  "language_info": {
   "codemirror_mode": {
    "name": "ipython",
    "version": 3
   },
   "file_extension": ".py",
   "mimetype": "text/x-python",
   "name": "python",
   "nbconvert_exporter": "python",
   "pygments_lexer": "ipython3",
   "version": "3.8.18"
  },
  "widgets": {
   "application/vnd.jupyter.widget-state+json": {
    "state": {},
    "version_major": 2,
    "version_minor": 0
   }
  }
 },
 "nbformat": 4,
 "nbformat_minor": 5
}
