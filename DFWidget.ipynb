{
 "cells": [
  {
   "cell_type": "code",
   "execution_count": 10,
   "id": "8bf9f48f-cbf9-42fe-8d86-ef5389971dee",
   "metadata": {
    "tags": []
   },
   "outputs": [],
   "source": [
    "from df_cereal.df_widget import DFWidget, BaseWidget\n",
    "import pandas as pd"
   ]
  },
  {
   "cell_type": "code",
   "execution_count": 11,
   "id": "aaeb20be-bafa-411b-a47d-02a6e67d3497",
   "metadata": {
    "tags": []
   },
   "outputs": [
    {
     "data": {
      "application/vnd.jupyter.widget-view+json": {
       "model_id": "008988918c4c4b9fa489e582eaa2300b",
       "version_major": 2,
       "version_minor": 0
      },
      "text/plain": [
       "DFWidget(df_data=[{'index': 0, 'a': 10, 'b': 'paddy'}, {'index': 1, 'a': 50, 'b': 'margaret'}])"
      ]
     },
     "execution_count": 11,
     "metadata": {},
     "output_type": "execute_result"
    }
   ],
   "source": [
    "df = pd.DataFrame({'a':[10,50], 'b': ['paddy', 'margaret']})\n",
    "DFWidget(df)"
   ]
  },
  {
   "cell_type": "code",
   "execution_count": 12,
   "id": "663b81ed-27bc-4278-9275-93a91c0056f2",
   "metadata": {},
   "outputs": [],
   "source": [
    "from traitlets import Unicode, List, Dict, observe, Any, Bytes\n",
    "\n",
    "class Base64Widget(BaseWidget):\n",
    "    _view_name = Unicode('Base64WidgetView').tag(sync=True)\n",
    "    df_base64 = Any(\"\").tag(sync=True)\n",
    "\n",
    "class BytesWidget(BaseWidget):\n",
    "    _view_name = Unicode('BytesWidgetView').tag(sync=True)\n",
    "    df_arrow_bytes = Bytes().tag(sync=True)"
   ]
  },
  {
   "cell_type": "code",
   "execution_count": 13,
   "id": "d425ece6-cc6a-4c54-b67a-f0b69bed323d",
   "metadata": {
    "tags": []
   },
   "outputs": [],
   "source": [
    "base64table = \"/////zgBAAAQAAAAAAAKABAADgAHAAgACgAAAAAAAAEIAAAAAAAEAHz///8EAAAABAAAANgAAACYAAAARAAAAAQAAABI////FAAAAAAAAAEUAAAAAAAAAxAAAAABAAAAZAAAAAAAAAA2////AAACABAAHAAIAA8AFwAYAAQAEAAQAAAAMAAAABQAAAAAAAABFAAAAAAAAAUQAAAAAQAAAGMAAAAAAAAAtP///wgACAAAAAQACAAAAAwAAAAIAAwACAAHAAgAAAAAAAABIAAAANT///8UAAAAAAAAARQAAAAAAAAGFAAAAAEAAABiAAAAAAAAAAQABAAEAAAAEAAYAAQACwATABQAAAAMABAAAAAUAAAAAAAAARQAAAAAAAADGAAAAAEAAABhAAAAAAAAAAAABgAIAAYABgAAAAAAAgD/////sAAAABQAAAAAAAAADAAcABoAEwAUAAQADAAAABgAAAAAAAAAAAAAAAAAAAIQAAAAAAAEAAgACgAAAAQACAAAABAAAAAAAAoAGAAMAAgABAAKAAAAFAAAAEgAAAACAAAAAAAAAAAAAAADAAAAAAAAAAAAAAAAAAAAAAAAAAAAAAAAAAAAEAAAAAAAAAAQAAAAAAAAAAgAAAAAAAAAAAAAAAEAAAACAAAAAAAAAAAAAAAAAAAAAAAAAAMAAAAGAAAAAAAAAGZvb2JhcgAA/////xgBAAAUAAAAAAAAAAwAFgAUAA8AEAAEAAwAAABoAAAAAAAAAAAAAAMQAAAABAAKABgADAAIAAQACgAAABQAAACYAAAAAgAAAAAAAAAAAAAACAAAAAAAAAAAAAAAAAAAAAAAAAAAAAAAAAAAABAAAAAAAAAAEAAAAAAAAAAAAAAAAAAAABAAAAAAAAAAQAAAAAAAAABQAAAAAAAAAAAAAAAAAAAAUAAAAAAAAAAIAAAAAAAAAFgAAAAAAAAAAAAAAAAAAABYAAAAAAAAABAAAAAAAAAAAAAAAAQAAAACAAAAAAAAAAAAAAAAAAAAAgAAAAAAAAAAAAAAAAAAAAIAAAAAAAAAAAAAAAAAAAACAAAAAAAAAAAAAAAAAAAAAAAAAAAARUAAAAAAAAAoQAEAAAAAAAAAAAAAAAAAAAAAAAAAAAAAAAAAAAAAAAAAAAAAAAAAAAAAAAAAAAAAAAAAAAAAAAAAAAAAAAAAAAAAAAAAAQAAAM3MzMzMzDfAMzMzMzMzIkD/////AAAAAA==\"\n"
   ]
  },
  {
   "cell_type": "code",
   "execution_count": 14,
   "id": "4c82b101-51f6-406c-bed3-e82f429e5bc3",
   "metadata": {
    "tags": []
   },
   "outputs": [
    {
     "data": {
      "application/vnd.jupyter.widget-view+json": {
       "model_id": "3c62c6f40e344747b87347a6f4cf3065",
       "version_major": 2,
       "version_minor": 0
      },
      "text/plain": [
       "Base64Widget(df_base64='/////zgBAAAQAAAAAAAKABAADgAHAAgACgAAAAAAAAEIAAAAAAAEAHz///8EAAAABAAAANgAAACYAAAARAAAAA…"
      ]
     },
     "execution_count": 14,
     "metadata": {},
     "output_type": "execute_result"
    }
   ],
   "source": [
    "Base64Widget(df_base64=base64table)"
   ]
  },
  {
   "cell_type": "code",
   "execution_count": 15,
   "id": "f1eefb23-4875-4e1d-88a8-df8048a13282",
   "metadata": {
    "tags": []
   },
   "outputs": [
    {
     "data": {
      "text/plain": [
       "b'\\xff\\xff\\xff\\xff\\xc8\\x00\\x00\\x00\\x14\\x00\\x00\\x00\\x00\\x00\\x00\\x00\\x0c\\x00\\x16\\x00\\x06\\x00\\x05\\x00\\x08\\x00\\x0c\\x00\\x0c\\x00'"
      ]
     },
     "execution_count": 15,
     "metadata": {},
     "output_type": "execute_result"
    }
   ],
   "source": [
    "import pyarrow as pa\n",
    "df = pd.DataFrame({'a':[10,50], 'b': ['paddy', 'margaret']})\n",
    "table = pa.Table.from_pandas(df)\n",
    "batches = table.to_batches()[0]\n",
    "pabuffer = batches.serialize()\n",
    "pabuffer.to_pybytes()[:30]"
   ]
  },
  {
   "cell_type": "code",
   "execution_count": null,
   "id": "8d02a6ae-63e5-4f9b-9214-45424239623a",
   "metadata": {},
   "outputs": [],
   "source": [
    "sink = pa.BufferOutputStream()\n",
    "buf = sink.getvalue()\n",
    "with pa.ipc.open_stream(buf) as reader:\n",
    "      schema = reader.schema\n",
    "      batches = [b for b in reader]\n"
   ]
  },
  {
   "cell_type": "code",
   "execution_count": null,
   "id": "d75243c9-7391-4324-a391-de820a6f90ac",
   "metadata": {
    "tags": []
   },
   "outputs": [],
   "source": [
    "BytesWidget(df_arrow_bytes=pabuffer.to_pybytes())"
   ]
  },
  {
   "cell_type": "code",
   "execution_count": null,
   "id": "b7039598-0e02-4397-8261-719932a2393b",
   "metadata": {
    "tags": []
   },
   "outputs": [],
   "source": [
    "import base64\n",
    "b64_t2 = base64.b64encode(pabuffer.to_pybytes())\n",
    "#Base64Widget(df_base64=b64_t2)"
   ]
  },
  {
   "cell_type": "code",
   "execution_count": null,
   "id": "27c071d5-18c4-4e6f-8ab6-751c15c11e20",
   "metadata": {
    "tags": []
   },
   "outputs": [],
   "source": [
    "b64_t2"
   ]
  },
  {
   "cell_type": "code",
   "execution_count": null,
   "id": "e857785d-eec0-43cc-b4d4-2c427aa6968b",
   "metadata": {
    "tags": []
   },
   "outputs": [],
   "source": [
    "b64_t3 = '/////8gAAAAUAAAAAAAAAAwAFgAGAAUACAAMAAwAAAAAAwQAGAAAADAAAAAAAAAAAAAKABgADAAEAAgACgAAAGwAAAAQAAAAAgAAAAAAAAAAAAAABQAAAAAAAAAAAAAAAAAAAAAAAAAAAAAAAAAAABAAAAAAAAAAEAAAAAAAAAAAAAAAAAAAABAAAAAAAAAADAAAAAAAAAAgAAAAAAAAAA0AAAAAAAAAAAAAAAIAAAACAAAAAAAAAAAAAAAAAAAAAgAAAAAAAAAAAAAAAAAAAAoAAAAAAAAAMgAAAAAAAAAAAAAABQAAAA0AAAAAAAAAcGFkZHltYXJnYXJldAAAAA=='"
   ]
  },
  {
   "cell_type": "code",
   "execution_count": null,
   "id": "a5a1e18f-d9e5-48b9-8dd9-45a5e64573c0",
   "metadata": {
    "tags": []
   },
   "outputs": [],
   "source": [
    "Base64Widget(df_base64=b64_t3)"
   ]
  },
  {
   "cell_type": "code",
   "execution_count": null,
   "id": "581fae01-4499-4b88-a6cf-92b9202f32be",
   "metadata": {
    "tags": []
   },
   "outputs": [],
   "source": [
    "len(b64_t2)"
   ]
  },
  {
   "cell_type": "code",
   "execution_count": null,
   "id": "7e301da0-8e3f-4b0c-abf7-7b351a2db6eb",
   "metadata": {
    "tags": []
   },
   "outputs": [],
   "source": [
    "pabuffer.size"
   ]
  },
  {
   "cell_type": "code",
   "execution_count": null,
   "id": "7dc27d26-405b-495e-bfbe-fd1eadb741af",
   "metadata": {
    "tags": []
   },
   "outputs": [],
   "source": [
    "BytesWidget(df_arrow_bytes=pabuffer.to_pybytes())"
   ]
  },
  {
   "cell_type": "code",
   "execution_count": null,
   "id": "928dcb27-ee47-403d-8437-fd11757f4d88",
   "metadata": {
    "tags": []
   },
   "outputs": [],
   "source": [
    "BytesWidget(df_arrow_bytes=pabuffer.to_pybytes())"
   ]
  },
  {
   "cell_type": "code",
   "execution_count": null,
   "id": "21eb1c01-4521-4a48-a87c-a3b3c87177a3",
   "metadata": {},
   "outputs": [],
   "source": []
  }
 ],
 "metadata": {
  "kernelspec": {
   "display_name": "Python 3 (ipykernel)",
   "language": "python",
   "name": "python3"
  },
  "language_info": {
   "codemirror_mode": {
    "name": "ipython",
    "version": 3
   },
   "file_extension": ".py",
   "mimetype": "text/x-python",
   "name": "python",
   "nbconvert_exporter": "python",
   "pygments_lexer": "ipython3",
   "version": "3.8.18"
  },
  "widgets": {
   "application/vnd.jupyter.widget-state+json": {
    "state": {
     "008988918c4c4b9fa489e582eaa2300b": {
      "model_module": "df_cereal",
      "model_module_version": "^0.6.5",
      "model_name": "ReactWidgetModel",
      "state": {
       "_model_module_version": "^0.6.5",
       "_model_name": "ReactWidgetModel",
       "_view_module_version": "^0.6.5",
       "_view_name": "SimpleDFWidgetView",
       "df_data": [
        {
         "a": 10,
         "b": "paddy",
         "index": 0
        },
        {
         "a": 50,
         "b": "margaret",
         "index": 1
        }
       ],
       "layout": "IPY_MODEL_c14aa8b9355349bc85be7e09e25cb460"
      }
     },
     "0f67d35688664f63abeb2840369a3726": {
      "model_module": "df_cereal",
      "model_module_version": "^0.6.5",
      "model_name": "ReactWidgetModel",
      "state": {
       "_model_module_version": "^0.6.5",
       "_model_name": "ReactWidgetModel",
       "_view_module_version": "^0.6.5",
       "_view_name": "BytesWidgetView",
       "df_arrow_bytes": {},
       "layout": "IPY_MODEL_6e4ec02a50964593837f0b1bbdfe27a6"
      }
     },
     "148e09ee0d964a8fa685074756a45e8a": {
      "model_module": "df_cereal",
      "model_module_version": "^0.6.5",
      "model_name": "ReactWidgetModel",
      "state": {
       "_model_module_version": "^0.6.5",
       "_model_name": "ReactWidgetModel",
       "_view_module_version": "^0.6.5",
       "_view_name": "Base64WidgetView",
       "df_base64": "/////zgBAAAQAAAAAAAKABAADgAHAAgACgAAAAAAAAEIAAAAAAAEAHz///8EAAAABAAAANgAAACYAAAARAAAAAQAAABI////FAAAAAAAAAEUAAAAAAAAAxAAAAABAAAAZAAAAAAAAAA2////AAACABAAHAAIAA8AFwAYAAQAEAAQAAAAMAAAABQAAAAAAAABFAAAAAAAAAUQAAAAAQAAAGMAAAAAAAAAtP///wgACAAAAAQACAAAAAwAAAAIAAwACAAHAAgAAAAAAAABIAAAANT///8UAAAAAAAAARQAAAAAAAAGFAAAAAEAAABiAAAAAAAAAAQABAAEAAAAEAAYAAQACwATABQAAAAMABAAAAAUAAAAAAAAARQAAAAAAAADGAAAAAEAAABhAAAAAAAAAAAABgAIAAYABgAAAAAAAgD/////sAAAABQAAAAAAAAADAAcABoAEwAUAAQADAAAABgAAAAAAAAAAAAAAAAAAAIQAAAAAAAEAAgACgAAAAQACAAAABAAAAAAAAoAGAAMAAgABAAKAAAAFAAAAEgAAAACAAAAAAAAAAAAAAADAAAAAAAAAAAAAAAAAAAAAAAAAAAAAAAAAAAAEAAAAAAAAAAQAAAAAAAAAAgAAAAAAAAAAAAAAAEAAAACAAAAAAAAAAAAAAAAAAAAAAAAAAMAAAAGAAAAAAAAAGZvb2JhcgAA/////xgBAAAUAAAAAAAAAAwAFgAUAA8AEAAEAAwAAABoAAAAAAAAAAAAAAMQAAAABAAKABgADAAIAAQACgAAABQAAACYAAAAAgAAAAAAAAAAAAAACAAAAAAAAAAAAAAAAAAAAAAAAAAAAAAAAAAAABAAAAAAAAAAEAAAAAAAAAAAAAAAAAAAABAAAAAAAAAAQAAAAAAAAABQAAAAAAAAAAAAAAAAAAAAUAAAAAAAAAAIAAAAAAAAAFgAAAAAAAAAAAAAAAAAAABYAAAAAAAAABAAAAAAAAAAAAAAAAQAAAACAAAAAAAAAAAAAAAAAAAAAgAAAAAAAAAAAAAAAAAAAAIAAAAAAAAAAAAAAAAAAAACAAAAAAAAAAAAAAAAAAAAAAAAAAAARUAAAAAAAAAoQAEAAAAAAAAAAAAAAAAAAAAAAAAAAAAAAAAAAAAAAAAAAAAAAAAAAAAAAAAAAAAAAAAAAAAAAAAAAAAAAAAAAAAAAAAAAQAAAM3MzMzMzDfAMzMzMzMzIkD/////AAAAAA==",
       "layout": "IPY_MODEL_cfb4f6c808604a25961f76c3038950b7"
      }
     },
     "3c62c6f40e344747b87347a6f4cf3065": {
      "model_module": "df_cereal",
      "model_module_version": "^0.6.5",
      "model_name": "ReactWidgetModel",
      "state": {
       "_model_module_version": "^0.6.5",
       "_model_name": "ReactWidgetModel",
       "_view_module_version": "^0.6.5",
       "_view_name": "Base64WidgetView",
       "df_base64": "/////zgBAAAQAAAAAAAKABAADgAHAAgACgAAAAAAAAEIAAAAAAAEAHz///8EAAAABAAAANgAAACYAAAARAAAAAQAAABI////FAAAAAAAAAEUAAAAAAAAAxAAAAABAAAAZAAAAAAAAAA2////AAACABAAHAAIAA8AFwAYAAQAEAAQAAAAMAAAABQAAAAAAAABFAAAAAAAAAUQAAAAAQAAAGMAAAAAAAAAtP///wgACAAAAAQACAAAAAwAAAAIAAwACAAHAAgAAAAAAAABIAAAANT///8UAAAAAAAAARQAAAAAAAAGFAAAAAEAAABiAAAAAAAAAAQABAAEAAAAEAAYAAQACwATABQAAAAMABAAAAAUAAAAAAAAARQAAAAAAAADGAAAAAEAAABhAAAAAAAAAAAABgAIAAYABgAAAAAAAgD/////sAAAABQAAAAAAAAADAAcABoAEwAUAAQADAAAABgAAAAAAAAAAAAAAAAAAAIQAAAAAAAEAAgACgAAAAQACAAAABAAAAAAAAoAGAAMAAgABAAKAAAAFAAAAEgAAAACAAAAAAAAAAAAAAADAAAAAAAAAAAAAAAAAAAAAAAAAAAAAAAAAAAAEAAAAAAAAAAQAAAAAAAAAAgAAAAAAAAAAAAAAAEAAAACAAAAAAAAAAAAAAAAAAAAAAAAAAMAAAAGAAAAAAAAAGZvb2JhcgAA/////xgBAAAUAAAAAAAAAAwAFgAUAA8AEAAEAAwAAABoAAAAAAAAAAAAAAMQAAAABAAKABgADAAIAAQACgAAABQAAACYAAAAAgAAAAAAAAAAAAAACAAAAAAAAAAAAAAAAAAAAAAAAAAAAAAAAAAAABAAAAAAAAAAEAAAAAAAAAAAAAAAAAAAABAAAAAAAAAAQAAAAAAAAABQAAAAAAAAAAAAAAAAAAAAUAAAAAAAAAAIAAAAAAAAAFgAAAAAAAAAAAAAAAAAAABYAAAAAAAAABAAAAAAAAAAAAAAAAQAAAACAAAAAAAAAAAAAAAAAAAAAgAAAAAAAAAAAAAAAAAAAAIAAAAAAAAAAAAAAAAAAAACAAAAAAAAAAAAAAAAAAAAAAAAAAAARUAAAAAAAAAoQAEAAAAAAAAAAAAAAAAAAAAAAAAAAAAAAAAAAAAAAAAAAAAAAAAAAAAAAAAAAAAAAAAAAAAAAAAAAAAAAAAAAAAAAAAAAQAAAM3MzMzMzDfAMzMzMzMzIkD/////AAAAAA==",
       "layout": "IPY_MODEL_86c5a3a092dd4a27987973f8cf70cec1"
      }
     },
     "6e4ec02a50964593837f0b1bbdfe27a6": {
      "model_module": "@jupyter-widgets/base",
      "model_module_version": "2.0.0",
      "model_name": "LayoutModel",
      "state": {}
     },
     "86c5a3a092dd4a27987973f8cf70cec1": {
      "model_module": "@jupyter-widgets/base",
      "model_module_version": "2.0.0",
      "model_name": "LayoutModel",
      "state": {}
     },
     "918693e96675441c824e6236cf94102a": {
      "model_module": "@jupyter-widgets/base",
      "model_module_version": "2.0.0",
      "model_name": "LayoutModel",
      "state": {}
     },
     "c14aa8b9355349bc85be7e09e25cb460": {
      "model_module": "@jupyter-widgets/base",
      "model_module_version": "2.0.0",
      "model_name": "LayoutModel",
      "state": {}
     },
     "cfb4f6c808604a25961f76c3038950b7": {
      "model_module": "@jupyter-widgets/base",
      "model_module_version": "2.0.0",
      "model_name": "LayoutModel",
      "state": {}
     },
     "e27f3e99d39047eebe9a29a5dc301016": {
      "model_module": "df_cereal",
      "model_module_version": "^0.6.5",
      "model_name": "ReactWidgetModel",
      "state": {
       "_model_module_version": "^0.6.5",
       "_model_name": "ReactWidgetModel",
       "_view_module_version": "^0.6.5",
       "_view_name": "SimpleDFWidgetView",
       "df_data": [
        {
         "a": 10,
         "b": "paddy",
         "index": 0
        },
        {
         "a": 50,
         "b": "margaret",
         "index": 1
        }
       ],
       "layout": "IPY_MODEL_918693e96675441c824e6236cf94102a"
      }
     }
    },
    "version_major": 2,
    "version_minor": 0
   }
  }
 },
 "nbformat": 4,
 "nbformat_minor": 5
}
