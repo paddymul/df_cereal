{
 "cells": [
  {
   "cell_type": "code",
   "execution_count": 1,
   "id": "8bf9f48f-cbf9-42fe-8d86-ef5389971dee",
   "metadata": {
    "tags": []
   },
   "outputs": [],
   "source": [
    "from df_cereal.df_widget import DFWidget, BaseWidget\n",
    "import pandas as pd"
   ]
  },
  {
   "cell_type": "code",
   "execution_count": 2,
   "id": "aaeb20be-bafa-411b-a47d-02a6e67d3497",
   "metadata": {
    "tags": []
   },
   "outputs": [
    {
     "data": {
      "application/vnd.jupyter.widget-view+json": {
       "model_id": "e59e47f833584b79bd12a5b73b437e81",
       "version_major": 2,
       "version_minor": 0
      },
      "text/plain": [
       "DFWidget(df_data=[{'index': 0, 'a': 10, 'b': 'paddy'}, {'index': 1, 'a': 50, 'b': 'margaret'}])"
      ]
     },
     "execution_count": 2,
     "metadata": {},
     "output_type": "execute_result"
    }
   ],
   "source": [
    "df = pd.DataFrame({'a':[10,50], 'b': ['paddy', 'margaret']})\n",
    "DFWidget(df)"
   ]
  },
  {
   "cell_type": "code",
   "execution_count": 3,
   "id": "663b81ed-27bc-4278-9275-93a91c0056f2",
   "metadata": {},
   "outputs": [],
   "source": [
    "from traitlets import Unicode, List, Dict, observe, Any, Bytes\n",
    "\n",
    "class Base64Widget(BaseWidget):\n",
    "    _view_name = Unicode('Base64WidgetView').tag(sync=True)\n",
    "    df_base64 = Any(\"\").tag(sync=True)\n",
    "\n",
    "class BytesWidget(BaseWidget):\n",
    "    _view_name = Unicode('BytesWidgetView').tag(sync=True)\n",
    "    df_arrow_bytes = Bytes().tag(sync=True)"
   ]
  },
  {
   "cell_type": "code",
   "execution_count": 4,
   "id": "d425ece6-cc6a-4c54-b67a-f0b69bed323d",
   "metadata": {
    "tags": []
   },
   "outputs": [],
   "source": [
    "base64table = \"/////zgBAAAQAAAAAAAKABAADgAHAAgACgAAAAAAAAEIAAAAAAAEAHz///8EAAAABAAAANgAAACYAAAARAAAAAQAAABI////FAAAAAAAAAEUAAAAAAAAAxAAAAABAAAAZAAAAAAAAAA2////AAACABAAHAAIAA8AFwAYAAQAEAAQAAAAMAAAABQAAAAAAAABFAAAAAAAAAUQAAAAAQAAAGMAAAAAAAAAtP///wgACAAAAAQACAAAAAwAAAAIAAwACAAHAAgAAAAAAAABIAAAANT///8UAAAAAAAAARQAAAAAAAAGFAAAAAEAAABiAAAAAAAAAAQABAAEAAAAEAAYAAQACwATABQAAAAMABAAAAAUAAAAAAAAARQAAAAAAAADGAAAAAEAAABhAAAAAAAAAAAABgAIAAYABgAAAAAAAgD/////sAAAABQAAAAAAAAADAAcABoAEwAUAAQADAAAABgAAAAAAAAAAAAAAAAAAAIQAAAAAAAEAAgACgAAAAQACAAAABAAAAAAAAoAGAAMAAgABAAKAAAAFAAAAEgAAAACAAAAAAAAAAAAAAADAAAAAAAAAAAAAAAAAAAAAAAAAAAAAAAAAAAAEAAAAAAAAAAQAAAAAAAAAAgAAAAAAAAAAAAAAAEAAAACAAAAAAAAAAAAAAAAAAAAAAAAAAMAAAAGAAAAAAAAAGZvb2JhcgAA/////xgBAAAUAAAAAAAAAAwAFgAUAA8AEAAEAAwAAABoAAAAAAAAAAAAAAMQAAAABAAKABgADAAIAAQACgAAABQAAACYAAAAAgAAAAAAAAAAAAAACAAAAAAAAAAAAAAAAAAAAAAAAAAAAAAAAAAAABAAAAAAAAAAEAAAAAAAAAAAAAAAAAAAABAAAAAAAAAAQAAAAAAAAABQAAAAAAAAAAAAAAAAAAAAUAAAAAAAAAAIAAAAAAAAAFgAAAAAAAAAAAAAAAAAAABYAAAAAAAAABAAAAAAAAAAAAAAAAQAAAACAAAAAAAAAAAAAAAAAAAAAgAAAAAAAAAAAAAAAAAAAAIAAAAAAAAAAAAAAAAAAAACAAAAAAAAAAAAAAAAAAAAAAAAAAAARUAAAAAAAAAoQAEAAAAAAAAAAAAAAAAAAAAAAAAAAAAAAAAAAAAAAAAAAAAAAAAAAAAAAAAAAAAAAAAAAAAAAAAAAAAAAAAAAAAAAAAAAQAAAM3MzMzMzDfAMzMzMzMzIkD/////AAAAAA==\"\n"
   ]
  },
  {
   "cell_type": "code",
   "execution_count": 5,
   "id": "4c82b101-51f6-406c-bed3-e82f429e5bc3",
   "metadata": {
    "tags": []
   },
   "outputs": [
    {
     "data": {
      "application/vnd.jupyter.widget-view+json": {
       "model_id": "654533a600f64531a658b33e5e421d41",
       "version_major": 2,
       "version_minor": 0
      },
      "text/plain": [
       "Base64Widget(df_base64='/////zgBAAAQAAAAAAAKABAADgAHAAgACgAAAAAAAAEIAAAAAAAEAHz///8EAAAABAAAANgAAACYAAAARAAAAA…"
      ]
     },
     "execution_count": 5,
     "metadata": {},
     "output_type": "execute_result"
    }
   ],
   "source": [
    "Base64Widget(df_base64=base64table)"
   ]
  },
  {
   "cell_type": "code",
   "execution_count": 25,
   "id": "f4899000-9eae-4bb3-93eb-5e8e5e2e8f2a",
   "metadata": {
    "tags": []
   },
   "outputs": [],
   "source": [
    "import pyarrow as pa\n",
    "import pyarrow.feather as feather\n",
    "import base64\n",
    "def split_string(text, stride):\n",
    "    return [text[i:i+stride] for i in range(0, len(text), stride)]"
   ]
  },
  {
   "cell_type": "code",
   "execution_count": 7,
   "id": "f1eefb23-4875-4e1d-88a8-df8048a13282",
   "metadata": {
    "tags": []
   },
   "outputs": [
    {
     "name": "stdout",
     "output_type": "stream",
     "text": [
      "2162\n"
     ]
    },
    {
     "data": {
      "text/plain": [
       "b'ARROW1\\x00\\x00\\xff\\xff\\xff\\xff\\x80\\x03\\x00\\x00\\x10\\x00\\x00\\x00\\x00\\x00\\n\\x00\\x0e\\x00\\x06\\x00\\x05\\x00\\x08\\x00\\n\\x00\\x00\\x00\\x00\\x01\\x04\\x00\\x10\\x00\\x00\\x00\\x00\\x00\\n\\x00\\x0c\\x00\\x00\\x00\\x04\\x00\\x08\\x00\\n\\x00\\x00\\x00\\xa8\\x02\\x00\\x00\\x04\\x00\\x00\\x00\\x01\\x00\\x00\\x00\\x0c\\x00\\x00\\x00\\x08\\x00\\x0c\\x00\\x04\\x00\\x08\\x00\\x08\\x00\\x00\\x00\\x80\\x02\\x00\\x00\\x04\\x00\\x00\\x00p\\x02\\x00\\x00{\"index_columns\": [{\"kind\": \"range\", \"name\": null, \"start\": 0, \"stop\": 2, \"step\": 1}], \"column_indexes\": [{\"name\": null, \"field_name\": null, \"pandas_type\": \"unicode\", \"numpy_type\": \"object\", \"metadata\": {\"encoding\": \"UTF-8\"}}], \"columns\": [{\"name\": \"a\", \"field_name\": \"a\", \"pandas_type\": \"int64\", \"numpy_type\": \"int64\", \"metadata\": null}, {\"name\": \"c\", \"field_name\": \"c\", \"pandas_type\": \"float64\", \"n'"
      ]
     },
     "execution_count": 7,
     "metadata": {},
     "output_type": "execute_result"
    }
   ],
   "source": [
    "#df = pd.DataFrame({'a':[10,530], 'b': ['paddy', 'margaret']})\n",
    "df = pd.DataFrame({'a':[10,530], 'c': [-3.5, 9.7], 'd': [1,2]})\n",
    "\n",
    "table = pa.Table.from_pandas(df)\n",
    "feather.write_feather(table, \"simple_df.feath\", compression='uncompressed')\n",
    "feath_text = open(\"simple_df.feath\", \"rb\").read()\n",
    "usable_feath_text = base64.b64encode(feath_text).decode('utf8')\n",
    "\n",
    "print(len(feath_text))\n",
    "feath_text[:500]"
   ]
  },
  {
   "cell_type": "code",
   "execution_count": 24,
   "id": "978aa7be-b0df-4a3c-a12e-fc88c1910963",
   "metadata": {
    "tags": []
   },
   "outputs": [
    {
     "data": {
      "application/vnd.jupyter.widget-view+json": {
       "model_id": "80a6c675456f4f758a4911c710f1d545",
       "version_major": 2,
       "version_minor": 0
      },
      "text/plain": [
       "Base64Widget(df_base64='QVJST1cxAAD/////gAMAABAAAAAAAAoADgAGAAUACAAKAAAAAAEEABAAAAAAAAoADAAAAAQACAAKAAAAqAIAAA…"
      ]
     },
     "execution_count": 24,
     "metadata": {},
     "output_type": "execute_result"
    }
   ],
   "source": [
    "usable_feath_text = base64.b64encode(feath_text).decode('utf8')\n",
    "Base64Widget(df_base64=usable_feath_text)"
   ]
  },
  {
   "cell_type": "code",
   "execution_count": 26,
   "id": "4fb0b4bd-a7d2-4c38-957a-30056d870551",
   "metadata": {
    "tags": []
   },
   "outputs": [
    {
     "data": {
      "text/plain": [
       "['QVJST1cxAAD/////gAMAABAAAAAAAAoADgAGAAUACAAKAAAAAAEEABAAAAAAAAoADAAAAA',\n",
       " 'QACAAKAAAAqAIAAAQAAAABAAAADAAAAAgADAAEAAgACAAAAIACAAAEAAAAcAIAAHsiaW5k',\n",
       " 'ZXhfY29sdW1ucyI6IFt7ImtpbmQiOiAicmFuZ2UiLCAibmFtZSI6IG51bGwsICJzdGFydC',\n",
       " 'I6IDAsICJzdG9wIjogMiwgInN0ZXAiOiAxfV0sICJjb2x1bW5faW5kZXhlcyI6IFt7Im5h',\n",
       " 'bWUiOiBudWxsLCAiZmllbGRfbmFtZSI6IG51bGwsICJwYW5kYXNfdHlwZSI6ICJ1bmljb2',\n",
       " 'RlIiwgIm51bXB5X3R5cGUiOiAib2JqZWN0IiwgIm1ldGFkYXRhIjogeyJlbmNvZGluZyI6',\n",
       " 'ICJVVEYtOCJ9fV0sICJjb2x1bW5zIjogW3sibmFtZSI6ICJhIiwgImZpZWxkX25hbWUiOi',\n",
       " 'AiYSIsICJwYW5kYXNfdHlwZSI6ICJpbnQ2NCIsICJudW1weV90eXBlIjogImludDY0Iiwg',\n",
       " 'Im1ldGFkYXRhIjogbnVsbH0sIHsibmFtZSI6ICJjIiwgImZpZWxkX25hbWUiOiAiYyIsIC',\n",
       " 'JwYW5kYXNfdHlwZSI6ICJmbG9hdDY0IiwgIm51bXB5X3R5cGUiOiAiZmxvYXQ2NCIsICJt',\n",
       " 'ZXRhZGF0YSI6IG51bGx9LCB7Im5hbWUiOiAiZCIsICJmaWVsZF9uYW1lIjogImQiLCAicG',\n",
       " 'FuZGFzX3R5cGUiOiAiaW50NjQiLCAibnVtcHlfdHlwZSI6ICJpbnQ2NCIsICJtZXRhZGF0',\n",
       " 'YSI6IG51bGx9XSwgImNyZWF0b3IiOiB7ImxpYnJhcnkiOiAicHlhcnJvdyIsICJ2ZXJzaW',\n",
       " '9uIjogIjE0LjAuMiJ9LCAicGFuZGFzX3ZlcnNpb24iOiAiMi4wLjMifQAAAAAGAAAAcGFu',\n",
       " 'ZGFzAAADAAAAdAAAADQAAAAEAAAAqP///wAAAQIQAAAAFAAAAAQAAAAAAAAAAQAAAGQAAA',\n",
       " 'CY////AAAAAUAAAADU////AAABAxAAAAAYAAAABAAAAAAAAAABAAAAYwAGAAgABgAGAAAA',\n",
       " 'AAACABAAFAAIAAYABwAMAAAAEAAQAAAAAAABAhAAAAAcAAAABAAAAAAAAAABAAAAYQAAAA',\n",
       " 'gADAAIAAcACAAAAAAAAAFAAAAA/////+gAAAAUAAAAAAAAAAwAFgAGAAUACAAMAAwAAAAA',\n",
       " 'AwQAGAAAADAAAAAAAAAAAAAKABgADAAEAAgACgAAAHwAAAAQAAAAAgAAAAAAAAAAAAAABg',\n",
       " 'AAAAAAAAAAAAAAAAAAAAAAAAAAAAAAAAAAABAAAAAAAAAAEAAAAAAAAAAAAAAAAAAAABAA',\n",
       " 'AAAAAAAAEAAAAAAAAAAgAAAAAAAAAAAAAAAAAAAAIAAAAAAAAAAQAAAAAAAAAAAAAAADAA',\n",
       " 'AAAgAAAAAAAAAAAAAAAAAAAAIAAAAAAAAAAAAAAAAAAAACAAAAAAAAAAAAAAAAAAAACgAA',\n",
       " 'AAAAAAASAgAAAAAAAAAAAAAAAAzAZmZmZmZmI0ABAAAAAAAAAAIAAAAAAAAA/////wAAAA',\n",
       " 'AQAAAADAAUAAYACAAMABAADAAAAAAABABAAAAAKAAAAAQAAAABAAAAkAMAAAAAAADwAAAA',\n",
       " 'AAAAADAAAAAAAAAAAAAAAAAAAAAAAAAAAAAKAAwAAAAEAAgACgAAAKgCAAAEAAAAAQAAAA',\n",
       " 'wAAAAIAAwABAAIAAgAAACAAgAABAAAAHACAAB7ImluZGV4X2NvbHVtbnMiOiBbeyJraW5k',\n",
       " 'IjogInJhbmdlIiwgIm5hbWUiOiBudWxsLCAic3RhcnQiOiAwLCAic3RvcCI6IDIsICJzdG',\n",
       " 'VwIjogMX1dLCAiY29sdW1uX2luZGV4ZXMiOiBbeyJuYW1lIjogbnVsbCwgImZpZWxkX25h',\n",
       " 'bWUiOiBudWxsLCAicGFuZGFzX3R5cGUiOiAidW5pY29kZSIsICJudW1weV90eXBlIjogIm',\n",
       " '9iamVjdCIsICJtZXRhZGF0YSI6IHsiZW5jb2RpbmciOiAiVVRGLTgifX1dLCAiY29sdW1u',\n",
       " 'cyI6IFt7Im5hbWUiOiAiYSIsICJmaWVsZF9uYW1lIjogImEiLCAicGFuZGFzX3R5cGUiOi',\n",
       " 'AiaW50NjQiLCAibnVtcHlfdHlwZSI6ICJpbnQ2NCIsICJtZXRhZGF0YSI6IG51bGx9LCB7',\n",
       " 'Im5hbWUiOiAiYyIsICJmaWVsZF9uYW1lIjogImMiLCAicGFuZGFzX3R5cGUiOiAiZmxvYX',\n",
       " 'Q2NCIsICJudW1weV90eXBlIjogImZsb2F0NjQiLCAibWV0YWRhdGEiOiBudWxsfSwgeyJu',\n",
       " 'YW1lIjogImQiLCAiZmllbGRfbmFtZSI6ICJkIiwgInBhbmRhc190eXBlIjogImludDY0Ii',\n",
       " 'wgIm51bXB5X3R5cGUiOiAiaW50NjQiLCAibWV0YWRhdGEiOiBudWxsfV0sICJjcmVhdG9y',\n",
       " 'IjogeyJsaWJyYXJ5IjogInB5YXJyb3ciLCAidmVyc2lvbiI6ICIxNC4wLjIifSwgInBhbm',\n",
       " 'Rhc192ZXJzaW9uIjogIjIuMC4zIn0AAAAABgAAAHBhbmRhcwAAAwAAAHQAAAA0AAAABAAA',\n",
       " 'AKj///8AAAECEAAAABQAAAAEAAAAAAAAAAEAAABkAAAAmP///wAAAAFAAAAA1P///wAAAQ',\n",
       " 'MQAAAAGAAAAAQAAAAAAAAAAQAAAGMABgAIAAYABgAAAAAAAgAQABQACAAGAAcADAAAABAA',\n",
       " 'EAAAAAAAAQIQAAAAHAAAAAQAAAAAAAAAAQAAAGEAAAAIAAwACAAHAAgAAAAAAAABQAAAAL',\n",
       " 'ADAABBUlJPVzE=']"
      ]
     },
     "execution_count": 26,
     "metadata": {},
     "output_type": "execute_result"
    }
   ],
   "source": [
    "split_string(usable_feath_text, 70)"
   ]
  },
  {
   "cell_type": "code",
   "execution_count": 15,
   "id": "218fab29-0234-429c-9b66-a42864cc32b4",
   "metadata": {
    "tags": []
   },
   "outputs": [
    {
     "name": "stdout",
     "output_type": "stream",
     "text": [
      "b'QVJST1cxAAD/////gAMAABAAAAAAAA'\n",
      "  QVJST1cxAAD/////gAMAABAAAAAAAA\n"
     ]
    }
   ],
   "source": [
    "b64_t2 = base64.b64encode(feath_text)\n",
    "print(b64_t2[:30])\n",
    "print(\"  %s\" % b64_t2.decode('utf8')[:30])"
   ]
  },
  {
   "cell_type": "code",
   "execution_count": 19,
   "id": "cb1d196e-ccef-4f9d-9a24-184dd6df62b1",
   "metadata": {
    "tags": []
   },
   "outputs": [
    {
     "data": {
      "text/plain": [
       "'QQZIbRIAIJZFY9ZCAgAAAAAAAwIVb9cAIQYwIRAMEA'"
      ]
     },
     "execution_count": 19,
     "metadata": {},
     "output_type": "execute_result"
    }
   ],
   "source": [
    "b64_t2.decode('utf8')[::70]"
   ]
  },
  {
   "cell_type": "code",
   "execution_count": 23,
   "id": "9d2de3ba-f687-4352-a3f5-32bd0fb50037",
   "metadata": {
    "tags": []
   },
   "outputs": [
    {
     "data": {
      "text/plain": [
       "['QVJST1cxAAD/////gAMAABAAAAAAAAoADgAGAAUACAAKAAAAAAEEABAAAAAAAAoADAAAAA',\n",
       " 'QACAAKAAAAqAIAAAQAAAABAAAADAAAAAgADAAEAAgACAAAAIACAAAEAAAAcAIAAHsiaW5k',\n",
       " 'ZXhfY29sdW1ucyI6IFt7ImtpbmQiOiAicmFuZ2UiLCAibmFtZSI6IG51bGwsICJzdGFydC',\n",
       " 'I6IDAsICJzdG9wIjogMiwgInN0ZXAiOiAxfV0sICJjb2x1bW5faW5kZXhlcyI6IFt7Im5h',\n",
       " 'bWUiOiBudWxsLCAiZmllbGRfbmFtZSI6IG51bGwsICJwYW5kYXNfdHlwZSI6ICJ1bmljb2',\n",
       " 'RlIiwgIm51bXB5X3R5cGUiOiAib2JqZWN0IiwgIm1ldGFkYXRhIjogeyJlbmNvZGluZyI6',\n",
       " 'ICJVVEYtOCJ9fV0sICJjb2x1bW5zIjogW3sibmFtZSI6ICJhIiwgImZpZWxkX25hbWUiOi',\n",
       " 'AiYSIsICJwYW5kYXNfdHlwZSI6ICJpbnQ2NCIsICJudW1weV90eXBlIjogImludDY0Iiwg',\n",
       " 'Im1ldGFkYXRhIjogbnVsbH0sIHsibmFtZSI6ICJjIiwgImZpZWxkX25hbWUiOiAiYyIsIC',\n",
       " 'JwYW5kYXNfdHlwZSI6ICJmbG9hdDY0IiwgIm51bXB5X3R5cGUiOiAiZmxvYXQ2NCIsICJt',\n",
       " 'ZXRhZGF0YSI6IG51bGx9LCB7Im5hbWUiOiAiZCIsICJmaWVsZF9uYW1lIjogImQiLCAicG',\n",
       " 'FuZGFzX3R5cGUiOiAiaW50NjQiLCAibnVtcHlfdHlwZSI6ICJpbnQ2NCIsICJtZXRhZGF0',\n",
       " 'YSI6IG51bGx9XSwgImNyZWF0b3IiOiB7ImxpYnJhcnkiOiAicHlhcnJvdyIsICJ2ZXJzaW',\n",
       " '9uIjogIjE0LjAuMiJ9LCAicGFuZGFzX3ZlcnNpb24iOiAiMi4wLjMifQAAAAAGAAAAcGFu',\n",
       " 'ZGFzAAADAAAAdAAAADQAAAAEAAAAqP///wAAAQIQAAAAFAAAAAQAAAAAAAAAAQAAAGQAAA',\n",
       " 'CY////AAAAAUAAAADU////AAABAxAAAAAYAAAABAAAAAAAAAABAAAAYwAGAAgABgAGAAAA',\n",
       " 'AAACABAAFAAIAAYABwAMAAAAEAAQAAAAAAABAhAAAAAcAAAABAAAAAAAAAABAAAAYQAAAA',\n",
       " 'gADAAIAAcACAAAAAAAAAFAAAAA/////+gAAAAUAAAAAAAAAAwAFgAGAAUACAAMAAwAAAAA',\n",
       " 'AwQAGAAAADAAAAAAAAAAAAAKABgADAAEAAgACgAAAHwAAAAQAAAAAgAAAAAAAAAAAAAABg',\n",
       " 'AAAAAAAAAAAAAAAAAAAAAAAAAAAAAAAAAAABAAAAAAAAAAEAAAAAAAAAAAAAAAAAAAABAA',\n",
       " 'AAAAAAAAEAAAAAAAAAAgAAAAAAAAAAAAAAAAAAAAIAAAAAAAAAAQAAAAAAAAAAAAAAADAA',\n",
       " 'AAAgAAAAAAAAAAAAAAAAAAAAIAAAAAAAAAAAAAAAAAAAACAAAAAAAAAAAAAAAAAAAACgAA',\n",
       " 'AAAAAAASAgAAAAAAAAAAAAAAAAzAZmZmZmZmI0ABAAAAAAAAAAIAAAAAAAAA/////wAAAA',\n",
       " 'AQAAAADAAUAAYACAAMABAADAAAAAAABABAAAAAKAAAAAQAAAABAAAAkAMAAAAAAADwAAAA',\n",
       " 'AAAAADAAAAAAAAAAAAAAAAAAAAAAAAAAAAAKAAwAAAAEAAgACgAAAKgCAAAEAAAAAQAAAA',\n",
       " 'wAAAAIAAwABAAIAAgAAACAAgAABAAAAHACAAB7ImluZGV4X2NvbHVtbnMiOiBbeyJraW5k',\n",
       " 'IjogInJhbmdlIiwgIm5hbWUiOiBudWxsLCAic3RhcnQiOiAwLCAic3RvcCI6IDIsICJzdG',\n",
       " 'VwIjogMX1dLCAiY29sdW1uX2luZGV4ZXMiOiBbeyJuYW1lIjogbnVsbCwgImZpZWxkX25h',\n",
       " 'bWUiOiBudWxsLCAicGFuZGFzX3R5cGUiOiAidW5pY29kZSIsICJudW1weV90eXBlIjogIm',\n",
       " '9iamVjdCIsICJtZXRhZGF0YSI6IHsiZW5jb2RpbmciOiAiVVRGLTgifX1dLCAiY29sdW1u',\n",
       " 'cyI6IFt7Im5hbWUiOiAiYSIsICJmaWVsZF9uYW1lIjogImEiLCAicGFuZGFzX3R5cGUiOi',\n",
       " 'AiaW50NjQiLCAibnVtcHlfdHlwZSI6ICJpbnQ2NCIsICJtZXRhZGF0YSI6IG51bGx9LCB7',\n",
       " 'Im5hbWUiOiAiYyIsICJmaWVsZF9uYW1lIjogImMiLCAicGFuZGFzX3R5cGUiOiAiZmxvYX',\n",
       " 'Q2NCIsICJudW1weV90eXBlIjogImZsb2F0NjQiLCAibWV0YWRhdGEiOiBudWxsfSwgeyJu',\n",
       " 'YW1lIjogImQiLCAiZmllbGRfbmFtZSI6ICJkIiwgInBhbmRhc190eXBlIjogImludDY0Ii',\n",
       " 'wgIm51bXB5X3R5cGUiOiAiaW50NjQiLCAibWV0YWRhdGEiOiBudWxsfV0sICJjcmVhdG9y',\n",
       " 'IjogeyJsaWJyYXJ5IjogInB5YXJyb3ciLCAidmVyc2lvbiI6ICIxNC4wLjIifSwgInBhbm',\n",
       " 'Rhc192ZXJzaW9uIjogIjIuMC4zIn0AAAAABgAAAHBhbmRhcwAAAwAAAHQAAAA0AAAABAAA',\n",
       " 'AKj///8AAAECEAAAABQAAAAEAAAAAAAAAAEAAABkAAAAmP///wAAAAFAAAAA1P///wAAAQ',\n",
       " 'MQAAAAGAAAAAQAAAAAAAAAAQAAAGMABgAIAAYABgAAAAAAAgAQABQACAAGAAcADAAAABAA',\n",
       " 'EAAAAAAAAQIQAAAAHAAAAAQAAAAAAAAAAQAAAGEAAAAIAAwACAAHAAgAAAAAAAABQAAAAL',\n",
       " 'ADAABBUlJPVzE=']"
      ]
     },
     "execution_count": 23,
     "metadata": {},
     "output_type": "execute_result"
    }
   ],
   "source": [
    "def split_string(text, stride):\n",
    "    return [text[i:i+stride] for i in range(0, len(text), stride)]\n",
    "#split_string(\"asdfasdfasdf\", 3)\n",
    "split_string(b64_t2.decode('utf8'), 70)"
   ]
  },
  {
   "cell_type": "code",
   "execution_count": null,
   "id": "fda37d01-bc1f-4ae9-9fe7-c7b0c6f76edc",
   "metadata": {
    "tags": []
   },
   "outputs": [],
   "source": [
    "df"
   ]
  },
  {
   "cell_type": "code",
   "execution_count": null,
   "id": "2cf879df-a49f-40f0-85a1-d48be86427a5",
   "metadata": {
    "tags": []
   },
   "outputs": [],
   "source": [
    "import base64\n",
    "b64_t2 = base64.b64encode(feath_text)\n",
    "b64_t2"
   ]
  },
  {
   "cell_type": "code",
   "execution_count": null,
   "id": "4f8784f6-9b87-4d8e-847b-20cb7c8e3ed6",
   "metadata": {},
   "outputs": [],
   "source": [
    "pa.fea"
   ]
  },
  {
   "cell_type": "code",
   "execution_count": null,
   "id": "8d02a6ae-63e5-4f9b-9214-45424239623a",
   "metadata": {},
   "outputs": [],
   "source": [
    "sink = pa.BufferOutputStream()\n",
    "buf = sink.getvalue()\n",
    "with pa.ipc.open_stream(buf) as reader:\n",
    "      schema = reader.schema\n",
    "      batches = [b for b in reader]\n"
   ]
  },
  {
   "cell_type": "code",
   "execution_count": null,
   "id": "d75243c9-7391-4324-a391-de820a6f90ac",
   "metadata": {
    "tags": []
   },
   "outputs": [],
   "source": [
    "BytesWidget(df_arrow_bytes=pabuffer.to_pybytes())"
   ]
  },
  {
   "cell_type": "code",
   "execution_count": null,
   "id": "b7039598-0e02-4397-8261-719932a2393b",
   "metadata": {
    "tags": []
   },
   "outputs": [],
   "source": [
    "import base64\n",
    "b64_t2 = base64.b64encode(pabuffer.to_pybytes())\n",
    "#Base64Widget(df_base64=b64_t2)"
   ]
  },
  {
   "cell_type": "code",
   "execution_count": null,
   "id": "27c071d5-18c4-4e6f-8ab6-751c15c11e20",
   "metadata": {
    "tags": []
   },
   "outputs": [],
   "source": [
    "b64_t2"
   ]
  },
  {
   "cell_type": "code",
   "execution_count": null,
   "id": "e857785d-eec0-43cc-b4d4-2c427aa6968b",
   "metadata": {
    "tags": []
   },
   "outputs": [],
   "source": [
    "b64_t3 = '/////8gAAAAUAAAAAAAAAAwAFgAGAAUACAAMAAwAAAAAAwQAGAAAADAAAAAAAAAAAAAKABgADAAEAAgACgAAAGwAAAAQAAAAAgAAAAAAAAAAAAAABQAAAAAAAAAAAAAAAAAAAAAAAAAAAAAAAAAAABAAAAAAAAAAEAAAAAAAAAAAAAAAAAAAABAAAAAAAAAADAAAAAAAAAAgAAAAAAAAAA0AAAAAAAAAAAAAAAIAAAACAAAAAAAAAAAAAAAAAAAAAgAAAAAAAAAAAAAAAAAAAAoAAAAAAAAAMgAAAAAAAAAAAAAABQAAAA0AAAAAAAAAcGFkZHltYXJnYXJldAAAAA=='"
   ]
  },
  {
   "cell_type": "code",
   "execution_count": null,
   "id": "a5a1e18f-d9e5-48b9-8dd9-45a5e64573c0",
   "metadata": {
    "tags": []
   },
   "outputs": [],
   "source": [
    "Base64Widget(df_base64=b64_t3)"
   ]
  },
  {
   "cell_type": "code",
   "execution_count": null,
   "id": "581fae01-4499-4b88-a6cf-92b9202f32be",
   "metadata": {
    "tags": []
   },
   "outputs": [],
   "source": [
    "len(b64_t2)"
   ]
  },
  {
   "cell_type": "code",
   "execution_count": null,
   "id": "7e301da0-8e3f-4b0c-abf7-7b351a2db6eb",
   "metadata": {
    "tags": []
   },
   "outputs": [],
   "source": [
    "pabuffer.size"
   ]
  },
  {
   "cell_type": "code",
   "execution_count": null,
   "id": "7dc27d26-405b-495e-bfbe-fd1eadb741af",
   "metadata": {
    "tags": []
   },
   "outputs": [],
   "source": [
    "BytesWidget(df_arrow_bytes=pabuffer.to_pybytes())"
   ]
  },
  {
   "cell_type": "code",
   "execution_count": null,
   "id": "928dcb27-ee47-403d-8437-fd11757f4d88",
   "metadata": {
    "tags": []
   },
   "outputs": [],
   "source": [
    "BytesWidget(df_arrow_bytes=pabuffer.to_pybytes())"
   ]
  },
  {
   "cell_type": "code",
   "execution_count": null,
   "id": "21eb1c01-4521-4a48-a87c-a3b3c87177a3",
   "metadata": {},
   "outputs": [],
   "source": []
  }
 ],
 "metadata": {
  "kernelspec": {
   "display_name": "Python 3 (ipykernel)",
   "language": "python",
   "name": "python3"
  },
  "language_info": {
   "codemirror_mode": {
    "name": "ipython",
    "version": 3
   },
   "file_extension": ".py",
   "mimetype": "text/x-python",
   "name": "python",
   "nbconvert_exporter": "python",
   "pygments_lexer": "ipython3",
   "version": "3.8.18"
  },
  "widgets": {
   "application/vnd.jupyter.widget-state+json": {
    "state": {
     "38c505bb0ed745a68438de7d7b464517": {
      "model_module": "@jupyter-widgets/base",
      "model_module_version": "2.0.0",
      "model_name": "LayoutModel",
      "state": {}
     },
     "654533a600f64531a658b33e5e421d41": {
      "model_module": "df_cereal",
      "model_module_version": "^0.6.5",
      "model_name": "ReactWidgetModel",
      "state": {
       "_model_module_version": "^0.6.5",
       "_model_name": "ReactWidgetModel",
       "_view_module_version": "^0.6.5",
       "_view_name": "Base64WidgetView",
       "df_base64": "/////zgBAAAQAAAAAAAKABAADgAHAAgACgAAAAAAAAEIAAAAAAAEAHz///8EAAAABAAAANgAAACYAAAARAAAAAQAAABI////FAAAAAAAAAEUAAAAAAAAAxAAAAABAAAAZAAAAAAAAAA2////AAACABAAHAAIAA8AFwAYAAQAEAAQAAAAMAAAABQAAAAAAAABFAAAAAAAAAUQAAAAAQAAAGMAAAAAAAAAtP///wgACAAAAAQACAAAAAwAAAAIAAwACAAHAAgAAAAAAAABIAAAANT///8UAAAAAAAAARQAAAAAAAAGFAAAAAEAAABiAAAAAAAAAAQABAAEAAAAEAAYAAQACwATABQAAAAMABAAAAAUAAAAAAAAARQAAAAAAAADGAAAAAEAAABhAAAAAAAAAAAABgAIAAYABgAAAAAAAgD/////sAAAABQAAAAAAAAADAAcABoAEwAUAAQADAAAABgAAAAAAAAAAAAAAAAAAAIQAAAAAAAEAAgACgAAAAQACAAAABAAAAAAAAoAGAAMAAgABAAKAAAAFAAAAEgAAAACAAAAAAAAAAAAAAADAAAAAAAAAAAAAAAAAAAAAAAAAAAAAAAAAAAAEAAAAAAAAAAQAAAAAAAAAAgAAAAAAAAAAAAAAAEAAAACAAAAAAAAAAAAAAAAAAAAAAAAAAMAAAAGAAAAAAAAAGZvb2JhcgAA/////xgBAAAUAAAAAAAAAAwAFgAUAA8AEAAEAAwAAABoAAAAAAAAAAAAAAMQAAAABAAKABgADAAIAAQACgAAABQAAACYAAAAAgAAAAAAAAAAAAAACAAAAAAAAAAAAAAAAAAAAAAAAAAAAAAAAAAAABAAAAAAAAAAEAAAAAAAAAAAAAAAAAAAABAAAAAAAAAAQAAAAAAAAABQAAAAAAAAAAAAAAAAAAAAUAAAAAAAAAAIAAAAAAAAAFgAAAAAAAAAAAAAAAAAAABYAAAAAAAAABAAAAAAAAAAAAAAAAQAAAACAAAAAAAAAAAAAAAAAAAAAgAAAAAAAAAAAAAAAAAAAAIAAAAAAAAAAAAAAAAAAAACAAAAAAAAAAAAAAAAAAAAAAAAAAAARUAAAAAAAAAoQAEAAAAAAAAAAAAAAAAAAAAAAAAAAAAAAAAAAAAAAAAAAAAAAAAAAAAAAAAAAAAAAAAAAAAAAAAAAAAAAAAAAAAAAAAAAQAAAM3MzMzMzDfAMzMzMzMzIkD/////AAAAAA==",
       "layout": "IPY_MODEL_78031f96c2994164ab47350e11667987"
      }
     },
     "78031f96c2994164ab47350e11667987": {
      "model_module": "@jupyter-widgets/base",
      "model_module_version": "2.0.0",
      "model_name": "LayoutModel",
      "state": {}
     },
     "7ed1b8ce444b46eb8c00e9c069670f4d": {
      "model_module": "@jupyter-widgets/base",
      "model_module_version": "2.0.0",
      "model_name": "LayoutModel",
      "state": {}
     },
     "80a6c675456f4f758a4911c710f1d545": {
      "model_module": "df_cereal",
      "model_module_version": "^0.6.5",
      "model_name": "ReactWidgetModel",
      "state": {
       "_model_module_version": "^0.6.5",
       "_model_name": "ReactWidgetModel",
       "_view_module_version": "^0.6.5",
       "_view_name": "Base64WidgetView",
       "df_base64": "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",
       "layout": "IPY_MODEL_7ed1b8ce444b46eb8c00e9c069670f4d"
      }
     },
     "80ab3090813c405e86728fe8a49820a1": {
      "model_module": "df_cereal",
      "model_module_version": "^0.6.5",
      "model_name": "ReactWidgetModel",
      "state": {
       "_model_module_version": "^0.6.5",
       "_model_name": "ReactWidgetModel",
       "_view_module_version": "^0.6.5",
       "_view_name": "Base64WidgetView",
       "df_base64": "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",
       "layout": "IPY_MODEL_38c505bb0ed745a68438de7d7b464517"
      }
     },
     "90327e060d4245419076a9187ea916b3": {
      "model_module": "df_cereal",
      "model_module_version": "^0.6.5",
      "model_name": "ReactWidgetModel",
      "state": {
       "_model_module_version": "^0.6.5",
       "_model_name": "ReactWidgetModel",
       "_view_module_version": "^0.6.5",
       "_view_name": "Base64WidgetView",
       "df_base64": {},
       "layout": "IPY_MODEL_b2c564dd49e24c3686994e73140169fa"
      }
     },
     "b2c564dd49e24c3686994e73140169fa": {
      "model_module": "@jupyter-widgets/base",
      "model_module_version": "2.0.0",
      "model_name": "LayoutModel",
      "state": {}
     },
     "e59e47f833584b79bd12a5b73b437e81": {
      "model_module": "df_cereal",
      "model_module_version": "^0.6.5",
      "model_name": "ReactWidgetModel",
      "state": {
       "_model_module_version": "^0.6.5",
       "_model_name": "ReactWidgetModel",
       "_view_module_version": "^0.6.5",
       "_view_name": "SimpleDFWidgetView",
       "df_data": [
        {
         "a": 10,
         "b": "paddy",
         "index": 0
        },
        {
         "a": 50,
         "b": "margaret",
         "index": 1
        }
       ],
       "layout": "IPY_MODEL_ee6e5ed680ba433b925f60bfcf08edc7"
      }
     },
     "ee6e5ed680ba433b925f60bfcf08edc7": {
      "model_module": "@jupyter-widgets/base",
      "model_module_version": "2.0.0",
      "model_name": "LayoutModel",
      "state": {}
     }
    },
    "version_major": 2,
    "version_minor": 0
   }
  }
 },
 "nbformat": 4,
 "nbformat_minor": 5
}
